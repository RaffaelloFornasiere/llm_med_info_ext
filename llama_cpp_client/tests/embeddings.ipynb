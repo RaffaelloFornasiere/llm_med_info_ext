{
 "cells": [
  {
   "metadata": {
    "ExecuteTime": {
     "end_time": "2024-05-15T10:20:40.725088Z",
     "start_time": "2024-05-15T10:20:40.722030Z"
    }
   },
   "cell_type": "code",
   "source": [
    "from llama_cpp_client.utils import embed\n",
    "import json\n",
    "from scipy.spatial import distance\n",
    "\n",
    "\n",
    "def get_embedding(text):\n",
    "    return  json.loads(embed('147.189.192.78:8080', text).text)['embedding']\n"
   ],
   "id": "60f6e9b5faf15714",
   "outputs": [],
   "execution_count": 4
  },
  {
   "metadata": {
    "ExecuteTime": {
     "end_time": "2024-05-15T10:24:55.089533Z",
     "start_time": "2024-05-15T10:24:54.429545Z"
    }
   },
   "cell_type": "code",
   "source": [
    "out1 =  get_embedding('CLOPIDOGREL')\n",
    "out2 = get_embedding('Clopidogrel'.upper())\n",
    "\n",
    "1-distance.cosine(out1, out2)"
   ],
   "id": "b7306a96d39a2973",
   "outputs": [
    {
     "data": {
      "text/plain": [
       "1.0"
      ]
     },
     "execution_count": 11,
     "metadata": {},
     "output_type": "execute_result"
    }
   ],
   "execution_count": 11
  }
 ],
 "metadata": {
  "kernelspec": {
   "display_name": "Python 3",
   "language": "python",
   "name": "python3"
  },
  "language_info": {
   "codemirror_mode": {
    "name": "ipython",
    "version": 2
   },
   "file_extension": ".py",
   "mimetype": "text/x-python",
   "name": "python",
   "nbconvert_exporter": "python",
   "pygments_lexer": "ipython2",
   "version": "2.7.6"
  }
 },
 "nbformat": 4,
 "nbformat_minor": 5
}
