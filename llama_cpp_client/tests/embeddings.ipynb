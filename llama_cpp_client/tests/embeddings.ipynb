{
 "cells": [
  {
   "metadata": {
    "ExecuteTime": {
     "end_time": "2024-05-16T13:25:21.948810Z",
     "start_time": "2024-05-16T13:25:21.370695Z"
    }
   },
   "cell_type": "code",
   "source": [
    "from llama_cpp_client.utils import embed\n",
    "import json\n",
    "from scipy.spatial import distance\n",
    "\n",
    "\n",
    "def get_embedding(text):\n",
    "    return  json.loads(embed('147.189.192.78:8080', text).text)['embedding']\n"
   ],
   "id": "60f6e9b5faf15714",
   "outputs": [],
   "execution_count": 1
  },
  {
   "metadata": {
    "ExecuteTime": {
     "end_time": "2024-05-16T13:25:44.331910Z",
     "start_time": "2024-05-16T13:25:43.667643Z"
    }
   },
   "cell_type": "code",
   "source": [
    "out1 =  get_embedding('Hi how are you?')\n",
    "out2 = get_embedding('hi how are you?')\n",
    "\n",
    "1-distance.cosine(out1, out2)"
   ],
   "id": "b7306a96d39a2973",
   "outputs": [
    {
     "data": {
      "text/plain": [
       "0.8931834517237213"
      ]
     },
     "execution_count": 3,
     "metadata": {},
     "output_type": "execute_result"
    }
   ],
   "execution_count": 3
  },
  {
   "metadata": {},
   "cell_type": "code",
   "outputs": [],
   "execution_count": null,
   "source": "",
   "id": "51a890b8516e8e13"
  }
 ],
 "metadata": {
  "kernelspec": {
   "display_name": "Python 3",
   "language": "python",
   "name": "python3"
  },
  "language_info": {
   "codemirror_mode": {
    "name": "ipython",
    "version": 2
   },
   "file_extension": ".py",
   "mimetype": "text/x-python",
   "name": "python",
   "nbconvert_exporter": "python",
   "pygments_lexer": "ipython2",
   "version": "2.7.6"
  }
 },
 "nbformat": 4,
 "nbformat_minor": 5
}
