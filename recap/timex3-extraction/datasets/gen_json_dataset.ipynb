{
 "cells": [
  {
   "cell_type": "code",
   "id": "13014f0e3235993c",
   "metadata": {
    "collapsed": true,
    "ExecuteTime": {
     "end_time": "2024-06-28T06:21:37.068099Z",
     "start_time": "2024-06-28T06:21:33.416095Z"
    }
   },
   "source": [
    "import os\n",
    "import numpy as np\n",
    "import pandas as pd\n",
    "import json"
   ],
   "outputs": [],
   "execution_count": 2
  },
  {
   "metadata": {},
   "cell_type": "code",
   "outputs": [],
   "execution_count": 8,
   "source": [
    "\n",
    "train_files = os.listdir('release-update-6-26-12')"
   ],
   "id": "initial_id"
  },
  {
   "cell_type": "code",
   "source": "train_files = train_files[:100]",
   "metadata": {
    "collapsed": false,
    "ExecuteTime": {
     "end_time": "2024-04-15T07:49:23.053263Z",
     "start_time": "2024-04-15T07:49:23.051165Z"
    }
   },
   "id": "115fcf6134398e75",
   "outputs": [],
   "execution_count": 9
  },
  {
   "cell_type": "code",
   "source": [
    "dataset = []"
   ],
   "metadata": {
    "collapsed": false,
    "ExecuteTime": {
     "end_time": "2024-04-15T07:49:24.297689Z",
     "start_time": "2024-04-15T07:49:24.295845Z"
    }
   },
   "id": "635ba1e1293690bf",
   "outputs": [],
   "execution_count": 10
  },
  {
   "metadata": {
    "ExecuteTime": {
     "end_time": "2024-04-15T07:50:13.339384Z",
     "start_time": "2024-04-15T07:50:13.269505Z"
    }
   },
   "cell_type": "code",
   "source": [
    "def generate_train_data(folder_dir, n = 100):\n",
    "    import xml.etree.ElementTree as ET\n",
    "\n",
    "    files = os.listdir(folder_dir)\n",
    "    files = files[:n]\n",
    "    train_data = []\n",
    "    for file in files:\n",
    "        try:\n",
    "            root = ET.parse(os.path.join(folder_dir, file)).getroot()\n",
    "            out = [{field: tag.attrib[field] for field in ['text', 'val', 'type', 'mod', 'start']} for tag in root[1] if\n",
    "                   tag.tag == 'TIMEX3']\n",
    "            text = root[0].text\n",
    "            for tag in out:\n",
    "                tag['line'] = text.count('\\n', 0, int(tag['start']))\n",
    "                tag['text'] = tag['text'].replace('\\n', ' ')\n",
    "                tag['val'] = tag['val'].replace('\\n', ' ')\n",
    "                tag['file'] = file\n",
    "            \n",
    "\n",
    "            import re\n",
    "\n",
    "            tags = [{'val': tag['val'], 'line': tag['line'], 'text': tag['text']} for tag in out if\n",
    "                    tag['type'] == 'DATE' and bool(re.search(r'\\d', tag['text']))]\n",
    "\n",
    "            l = list(set([json.dumps(tag) for tag in tags]))\n",
    "            tags = [json.loads(tag) for tag in l]\n",
    "\n",
    "            train_data.append({'text': text, 'file': file, 'tags': tags})\n",
    "        except:\n",
    "            exc_info = sys.exc_info()\n",
    "            print(exc_info)\n",
    "            print(file)\n",
    "\n",
    "    return train_data\n",
    "\n",
    "train_chunks = generate_train_data('release-update-6-26-12/')"
   ],
   "id": "8ef7be55ddf4a2d6",
   "outputs": [],
   "execution_count": 16
  },
  {
   "metadata": {
    "ExecuteTime": {
     "end_time": "2024-04-15T07:50:13.659519Z",
     "start_time": "2024-04-15T07:50:13.657206Z"
    }
   },
   "cell_type": "code",
   "source": "len(train_chunks)",
   "id": "6621f356a4add801",
   "outputs": [
    {
     "data": {
      "text/plain": [
       "100"
      ]
     },
     "execution_count": 17,
     "metadata": {},
     "output_type": "execute_result"
    }
   ],
   "execution_count": 17
  },
  {
   "cell_type": "code",
   "source": [
    "for chunk in train_chunks:\n",
    "    json.dump(chunk, open('json/' + chunk['file'][:-4] + '.json', 'w'))"
   ],
   "metadata": {
    "collapsed": false,
    "ExecuteTime": {
     "end_time": "2024-04-15T07:50:14.147650Z",
     "start_time": "2024-04-15T07:50:14.132484Z"
    }
   },
   "id": "e723a9a159f84cff",
   "outputs": [],
   "execution_count": 18
  },
  {
   "metadata": {},
   "cell_type": "code",
   "outputs": [],
   "execution_count": null,
   "source": "",
   "id": "ed0ef9e20e7cf30b"
  },
  {
   "metadata": {},
   "cell_type": "code",
   "outputs": [],
   "execution_count": null,
   "source": "",
   "id": "3260a339898035ef"
  },
  {
   "metadata": {
    "ExecuteTime": {
     "end_time": "2024-06-28T06:24:38.178966Z",
     "start_time": "2024-06-28T06:24:38.171148Z"
    }
   },
   "cell_type": "code",
   "source": [
    "files = os.listdir('i2b2-2012')\n",
    "counts = []\n",
    "for file in files:\n",
    "    with open('i2b2-2012/' + file, 'r') as f:\n",
    "        data = json.load(f)\n",
    "        counts.append(len(data['annotations']))\n",
    "\n",
    "sum(counts)/len(counts), max(counts), min(counts)"
   ],
   "id": "df897c5872f69b13",
   "outputs": [
    {
     "data": {
      "text/plain": [
       "(5.485714285714286, 22, 2)"
      ]
     },
     "execution_count": 5,
     "metadata": {},
     "output_type": "execute_result"
    }
   ],
   "execution_count": 5
  },
  {
   "metadata": {},
   "cell_type": "code",
   "outputs": [],
   "execution_count": null,
   "source": "",
   "id": "d6dcb5fda239f751"
  }
 ],
 "metadata": {
  "kernelspec": {
   "display_name": "Python 3",
   "language": "python",
   "name": "python3"
  },
  "language_info": {
   "codemirror_mode": {
    "name": "ipython",
    "version": 2
   },
   "file_extension": ".py",
   "mimetype": "text/x-python",
   "name": "python",
   "nbconvert_exporter": "python",
   "pygments_lexer": "ipython2",
   "version": "2.7.6"
  }
 },
 "nbformat": 4,
 "nbformat_minor": 5
}
