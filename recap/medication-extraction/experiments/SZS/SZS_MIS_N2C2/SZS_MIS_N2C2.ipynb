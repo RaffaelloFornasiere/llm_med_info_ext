{
 "cells": [
  {
   "metadata": {},
   "cell_type": "markdown",
   "source": "### Simple Zero Shot - Mistral - N2C2",
   "id": "b564b53ee125147e"
  },
  {
   "cell_type": "code",
   "id": "initial_id",
   "metadata": {
    "collapsed": true,
    "ExecuteTime": {
     "end_time": "2024-04-21T12:47:03.414304Z",
     "start_time": "2024-04-21T12:47:03.402829Z"
    }
   },
   "source": [
    "%load_ext autoreload\n",
    "%autoreload 2\n",
    "import os\n",
    "import json\n",
    "import genesis_cloud.utils as u\n",
    "from tqdm import tqdm\n",
    "from step.step import *\n",
    "\n",
    "instance_url = '147.189.192.78:8080'\n"
   ],
   "outputs": [
    {
     "name": "stdout",
     "output_type": "stream",
     "text": [
      "The autoreload extension is already loaded. To reload it, use:\n",
      "  %reload_ext autoreload\n"
     ]
    }
   ],
   "execution_count": 30
  },
  {
   "metadata": {},
   "cell_type": "markdown",
   "source": "#### Loading dataset",
   "id": "2b20a6eea3ec9b7"
  },
  {
   "metadata": {
    "ExecuteTime": {
     "end_time": "2024-04-21T12:47:03.737134Z",
     "start_time": "2024-04-21T12:47:03.723862Z"
    }
   },
   "cell_type": "code",
   "source": [
    "dataset_dir = '../../../datasets/n2c2-2009/'\n",
    "dataset_files = os.listdir(dataset_dir)\n",
    "dataset = []\n",
    "for file in dataset_files:\n",
    "    with open(dataset_dir + file) as f:\n",
    "        try:\n",
    "            obj = json.load(f)\n",
    "            obj['file'] = file\n",
    "            dataset.append(obj)\n",
    "        except:\n",
    "            print('Error loading file: ', file)"
   ],
   "id": "27366f61aadde1b4",
   "outputs": [],
   "execution_count": 31
  },
  {
   "metadata": {},
   "cell_type": "markdown",
   "source": "## CSV",
   "id": "9a5123160a315034"
  },
  {
   "metadata": {
    "ExecuteTime": {
     "end_time": "2024-04-21T12:47:04.539537Z",
     "start_time": "2024-04-21T12:47:04.532840Z"
    }
   },
   "cell_type": "code",
   "source": "input_text = InputStep('input text', '')",
   "id": "5eca6cb16c4ce976",
   "outputs": [],
   "execution_count": 32
  },
  {
   "metadata": {
    "ExecuteTime": {
     "end_time": "2024-04-21T12:47:05.026757Z",
     "start_time": "2024-04-21T12:47:05.018746Z"
    }
   },
   "cell_type": "code",
   "source": [
    "prompt_dir = 'prompt_CSV.txt'\n",
    "prompt = open(prompt_dir).read()\n",
    "\n",
    "params = json.load(open('params.json', 'r'))\n",
    "\n",
    "\n",
    "def map_input(inputs: list = None):\n",
    "    return {'document': inputs[0].output.value}\n",
    "\n",
    "\n",
    "def map_output(output):\n",
    "    output = output.replace('<dummy32000>', '')\n",
    "    if not output.endswith('<|im_end|>'):\n",
    "        output += '<|im_end|>'\n",
    "    return output\n",
    "\n",
    "\n",
    "step1 = Step(LLamaCppModel(instance_url), 'step1', prompt, params, map_input, map_output, inputs=[input_text])"
   ],
   "id": "f093e2a7639d27cb",
   "outputs": [],
   "execution_count": 33
  },
  {
   "metadata": {
    "ExecuteTime": {
     "end_time": "2024-04-21T12:47:05.947813Z",
     "start_time": "2024-04-21T12:47:05.939919Z"
    }
   },
   "cell_type": "code",
   "source": "parse_csv = ParseCSVStep('parse_csv', ';', [step1])",
   "id": "7a5b1aa456a0227",
   "outputs": [],
   "execution_count": 34
  },
  {
   "metadata": {
    "ExecuteTime": {
     "end_time": "2024-04-18T14:19:15.631041Z",
     "start_time": "2024-04-18T14:11:26.844514Z"
    }
   },
   "cell_type": "code",
   "source": [
    "ans = []\n",
    "pbar = tqdm(dataset)\n",
    "pipeline = Pipeline(parse_csv)\n",
    "for sample in pbar:\n",
    "    input_text.input.value = sample['text']\n",
    "    res = pipeline()\n",
    "    ans.append({'file': sample['file'], 'out': res})"
   ],
   "id": "6586916e106cc9cc",
   "outputs": [
    {
     "name": "stderr",
     "output_type": "stream",
     "text": [
      "100%|██████████| 100/100 [07:48<00:00,  4.69s/it]\n"
     ]
    }
   ],
   "execution_count": 35
  },
  {
   "metadata": {},
   "cell_type": "code",
   "outputs": [],
   "execution_count": 35,
   "source": [
    "import json\n",
    "res = json.load(open('results_N2C2_CSV.json', 'r'))\n",
    "ans = res['outputs']"
   ],
   "id": "12feb91fef01e53f"
  },
  {
   "metadata": {
    "ExecuteTime": {
     "end_time": "2024-04-21T12:47:12.328465Z",
     "start_time": "2024-04-21T12:47:12.318641Z"
    }
   },
   "cell_type": "code",
   "source": [
    "ans = [{\n",
    "    'file': file['file'],\n",
    "    'out': [{\n",
    "        'medication_name': out[0],\n",
    "        'dosage': out[1],\n",
    "        'mode': out[2],\n",
    "        'frequency': out[3], \n",
    "    }\n",
    "        for out in file['out'] if len(out) == 4\n",
    "    ]\n",
    "} for file in ans]\n"
   ],
   "id": "fd32bbc9ae121450",
   "outputs": [],
   "execution_count": 36
  },
  {
   "metadata": {
    "ExecuteTime": {
     "end_time": "2024-04-21T12:47:42.922762Z",
     "start_time": "2024-04-21T12:47:42.906829Z"
    }
   },
   "cell_type": "code",
   "source": [
    "result = {\n",
    "    'experiment_name': 'Simple Zero Shot - Mistral - N2C2 - CSV',\n",
    "    'inputs': [file['file'] for file in dataset],\n",
    "    'outputs': ans,\n",
    "    'pipeline': json.loads(str(pipeline))\n",
    "}\n",
    "json.dump(result, open('result_CSV.json', 'w'))"
   ],
   "id": "7f5f1e42ff5318e2",
   "outputs": [],
   "execution_count": 40
  },
  {
   "metadata": {},
   "cell_type": "markdown",
   "source": [
    "### Evaluation\n",
    "\n",
    "the dataset contains many repeated annotations, so we'll keep only the most relevant ones that include more information"
   ],
   "id": "7464ea345e1a5a7a"
  },
  {
   "metadata": {},
   "cell_type": "code",
   "source": [
    "prompt = \"\"\"\n",
    "<|im_start|>user\n",
    "Are these two jsons equal?\n",
    "\n",
    "```json1\n",
    "{json1}\n",
    "```\n",
    "```json2\n",
    "{json2}\n",
    "```\n",
    "\n",
    "<|im_end|>\n",
    "<|im_start|>assistant\n",
    "\"\"\"\n",
    "\n",
    "params = json.load(open('params.json', 'r'))\n",
    "params['grammar'] = \"root ::= 'yes' | 'no'\"\n",
    "def map_input(inputs: list = None):\n",
    "    return {'json1': inputs[0].output.value}\n",
    "\n",
    "\n",
    "def map_output(output):\n",
    "    output = output.replace('<dummy32000>', '')\n",
    "    if not output.endswith('<|im_end|>'):\n",
    "        output += '<|im_end|>'\n",
    "    return output\n",
    "\n",
    "input = InputStep('input', '')\n",
    "step1 = Step(LLamaCppModel(instance_url), 'step1', prompt, params, map_input, map_output, inputs=[])\n",
    "\n",
    "\n",
    "for sample in dataset:\n",
    "    annotations = sample['annotations']\n",
    "    ## group by same chem_name\n",
    "    groups = []\n",
    "    "
   ],
   "id": "b51ae19ed55e227b",
   "outputs": [],
   "execution_count": null
  },
  {
   "metadata": {},
   "cell_type": "markdown",
   "source": "### JSON",
   "id": "2e8d3d717fa4d12c"
  },
  {
   "metadata": {
    "ExecuteTime": {
     "end_time": "2024-04-18T15:24:43.261149Z",
     "start_time": "2024-04-18T15:24:43.250249Z"
    }
   },
   "cell_type": "code",
   "source": [
    "prompt_dir = 'prompt_JSON.txt'\n",
    "prompt = open(prompt_dir).read()\n",
    "\n",
    "params = json.load(open('params.json', 'r'))\n",
    "\n",
    "\n",
    "def map_input(inputs: list = None):\n",
    "    return {'document': inputs[0].output.value}\n",
    "\n",
    "\n",
    "def map_output(output):\n",
    "    output = output.replace('<dummy32000>', '')\n",
    "    if not output.endswith('<|im_end|>'):\n",
    "        output += '<|im_end|>'\n",
    "    return output\n",
    "\n",
    "\n",
    "step1 = Step(LLamaCppModel(instance_url), 'step1', prompt, params, map_input, map_output, inputs=[input_text])"
   ],
   "id": "e29fb14417287d5b",
   "outputs": [],
   "execution_count": 55
  },
  {
   "metadata": {
    "ExecuteTime": {
     "end_time": "2024-04-18T15:24:43.792961Z",
     "start_time": "2024-04-18T15:24:43.786424Z"
    }
   },
   "cell_type": "code",
   "source": "to_json = ToJsonStep('to json', [step1])",
   "id": "a893441838e52bbe",
   "outputs": [],
   "execution_count": 56
  },
  {
   "metadata": {
    "ExecuteTime": {
     "end_time": "2024-04-18T15:33:29.360833Z",
     "start_time": "2024-04-18T15:25:11.973065Z"
    }
   },
   "cell_type": "code",
   "source": [
    "ans = []\n",
    "pbar = tqdm(dataset)\n",
    "pipeline = Pipeline(to_json)\n",
    "for sample in pbar:\n",
    "    input_text.input.value = sample['text']\n",
    "    # pipeline = Pipeline(parse_csv)\n",
    "    res = pipeline()\n",
    "    ans.append({'file': sample['file'], 'out': res})"
   ],
   "id": "25fd738c7bbac8ba",
   "outputs": [
    {
     "name": "stderr",
     "output_type": "stream",
     "text": [
      "100%|██████████| 100/100 [08:17<00:00,  4.97s/it]\n"
     ]
    }
   ],
   "execution_count": 58
  },
  {
   "metadata": {
    "ExecuteTime": {
     "end_time": "2024-04-18T15:33:34.672351Z",
     "start_time": "2024-04-18T15:33:34.658896Z"
    }
   },
   "cell_type": "code",
   "source": [
    "result = {\n",
    "    'experiment_name': 'Simple Zero Shot - Mistral - N2C2 - JSON',\n",
    "    'inputs': [file['file'] for file in dataset],\n",
    "    'outputs': ans,\n",
    "    'pipeline': json.loads(str(pipeline))\n",
    "}\n",
    "json.dump(result, open('result_JSON.json', 'w'))\n"
   ],
   "id": "5404258c432fcf06",
   "outputs": [],
   "execution_count": 59
  },
  {
   "metadata": {},
   "cell_type": "code",
   "outputs": [],
   "execution_count": null,
   "source": "",
   "id": "3d361d0e1c8af168"
  }
 ],
 "metadata": {
  "kernelspec": {
   "display_name": "Python 3",
   "language": "python",
   "name": "python3"
  },
  "language_info": {
   "codemirror_mode": {
    "name": "ipython",
    "version": 2
   },
   "file_extension": ".py",
   "mimetype": "text/x-python",
   "name": "python",
   "nbconvert_exporter": "python",
   "pygments_lexer": "ipython2",
   "version": "2.7.6"
  }
 },
 "nbformat": 4,
 "nbformat_minor": 5
}
