{
 "cells": [
  {
   "metadata": {},
   "cell_type": "markdown",
   "source": "### Simple Zero Shot - Mistral - N2C2",
   "id": "b564b53ee125147e"
  },
  {
   "cell_type": "code",
   "id": "initial_id",
   "metadata": {
    "collapsed": true,
    "ExecuteTime": {
     "end_time": "2024-04-24T09:12:09.263843Z",
     "start_time": "2024-04-24T09:12:09.250859Z"
    }
   },
   "source": [
    "%load_ext autoreload\n",
    "%autoreload 2\n",
    "import os\n",
    "import json\n",
    "import genesis_cloud.utils as u\n",
    "from tqdm import tqdm\n",
    "from step.step import *\n",
    "import random\n",
    "\n",
    "instance_url = '147.189.192.78:8080'\n"
   ],
   "outputs": [
    {
     "name": "stdout",
     "output_type": "stream",
     "text": [
      "The autoreload extension is already loaded. To reload it, use:\n",
      "  %reload_ext autoreload\n"
     ]
    }
   ],
   "execution_count": 9
  },
  {
   "metadata": {},
   "cell_type": "markdown",
   "source": "#### Loading dataset",
   "id": "2b20a6eea3ec9b7"
  },
  {
   "metadata": {
    "ExecuteTime": {
     "end_time": "2024-04-24T09:12:12.027086Z",
     "start_time": "2024-04-24T09:12:12.015610Z"
    }
   },
   "cell_type": "code",
   "source": [
    "dataset_dir = '../../../datasets/Policlinico_San_Donato_txt/'\n",
    "dataset_files = os.listdir(dataset_dir)\n",
    "all_docs_dataset = []\n",
    "for file in dataset_files:\n",
    "    with open(dataset_dir + file) as f:\n",
    "        try:\n",
    "            obj = json.load(f)\n",
    "            obj['file'] = file\n",
    "            all_docs_dataset.append(obj)\n",
    "        except:\n",
    "            print('Error loading file: ', file)"
   ],
   "id": "27366f61aadde1b4",
   "outputs": [],
   "execution_count": 10
  },
  {
   "metadata": {
    "ExecuteTime": {
     "end_time": "2024-04-24T09:12:13.371219Z",
     "start_time": "2024-04-24T09:12:13.361759Z"
    }
   },
   "cell_type": "code",
   "source": [
    "random.shuffle(all_docs_dataset)\n",
    "examples = all_docs_dataset[0:2]\n",
    "dataset = all_docs_dataset[3:]"
   ],
   "id": "cb669325cbb6c800",
   "outputs": [],
   "execution_count": 11
  },
  {
   "metadata": {
    "ExecuteTime": {
     "end_time": "2024-04-24T09:12:13.968602Z",
     "start_time": "2024-04-24T09:12:13.960934Z"
    }
   },
   "cell_type": "code",
   "source": [
    "chunk_size = 15\n",
    "chunks = []\n",
    "### get most representative example\n",
    "for example in examples:\n",
    "    ### extract the n lines with the most annotations\n",
    "    ann_lines = [line['line'] for line in example['annotations']]\n",
    "    \n",
    "    densities = [len([k for k in ann_lines if int(x)<=int(k)<=int(x)+chunk_size])  for x in ann_lines]\n",
    "    i = int(ann_lines[densities.index(max(densities))])\n",
    "    chunk = {\n",
    "        'text': '\\n'.join(example['text'].split('\\n')[i:i+chunk_size]),\n",
    "        'annotations': [ann for ann in example['annotations'] if i<=int(ann['line'])<=i+chunk_size]\n",
    "    }\n",
    "    chunks.append(chunk)\n",
    "    "
   ],
   "id": "aff9b0cc0a332db7",
   "outputs": [],
   "execution_count": 12
  },
  {
   "metadata": {
    "ExecuteTime": {
     "end_time": "2024-04-24T09:12:14.724316Z",
     "start_time": "2024-04-24T09:12:14.713800Z"
    }
   },
   "cell_type": "code",
   "source": "chunks[0]",
   "id": "83d5a611f3dbd1eb",
   "outputs": [
    {
     "data": {
      "text/plain": [
       "{'text': '- ACENOCUMAROLO 4 mg sec INR alle ore 18 (INR del 31.01.21 = 2.21 dose ¼ cp, INR odierno\\n= 3.31, dose 0 cp)\\n- METOPROLOLO 100 mg ½ cp alle ore 8, ½ cp alle ore 14 e ½ cp alle ore 20\\n- RAMIPRIL 5 mg 1 cp alle ore 8 e 1 cp alle ore 20\\n- CLORURO DI POTASSIO 600 mg 1 cp alle ore 12 e 1 cp alle ore 20, da sospendere secondo\\nkaliemia\\n- FUROSEMIDE 25 mg 2 cp alle ore 8 e 2 cp alle ore 20\\n- CANREONATO DI POTASSIO 100 mg ½ cp alle ore 16\\n- LORAZEPAM 1 mg 1 cp alle ore 8\\n- QUETIAPINA 25 mg 1 cp alle ore 22 (da sospendere eventualmente prima del rientro a domicilio)\\n\\nPROFILASSI DELL’ENDOCARDITE BATTERICA\\nIn caso di procedure mediche e odontoiatriche invasive o semi-invasive si raccomanda esecuzione di\\nprofilassi antibiotica della endocardite batterica secondo lo schema (tipo di Antibiotico, dosi e modalità\\ndi assunzione) riportato nel modulo allegato. Nel modulo sono riportate in dettaglio tutte le procedure',\n",
       " 'annotations': [{'medication_name': 'PANTOPRAZOLO',\n",
       "   'medication_dosage': '20 mg',\n",
       "   'mode': '1 cp',\n",
       "   'frequency': 'alle ore 8',\n",
       "   'line': 121},\n",
       "  {'medication_name': 'ACENOCUMAROLO',\n",
       "   'medication_dosage': '4 mg',\n",
       "   'mode': 'sec INR',\n",
       "   'frequency': 'alle ore 18 (INR del 31.01.21 = 2.21 dose ¼ cp, INR odierno = 3.31, dose 0 cp)',\n",
       "   'line': 122},\n",
       "  {'medication_name': 'METOPROLOLO',\n",
       "   'medication_dosage': '100 mg',\n",
       "   'mode': '½ cp',\n",
       "   'frequency': 'alle ore 8, 14 e 20',\n",
       "   'line': 124},\n",
       "  {'medication_name': 'RAMIPRIL',\n",
       "   'medication_dosage': '5 mg',\n",
       "   'mode': '1 cp',\n",
       "   'frequency': 'alle ore 8 e 20',\n",
       "   'line': 125},\n",
       "  {'medication_name': 'CLORURO DI POTASSIO',\n",
       "   'medication_dosage': '600 mg',\n",
       "   'mode': '1 cp',\n",
       "   'frequency': 'alle ore 12 e 20, da sospendere secondo kaliemia',\n",
       "   'line': 126},\n",
       "  {'medication_name': 'FUROSEMIDE',\n",
       "   'medication_dosage': '25 mg',\n",
       "   'mode': '2 cp',\n",
       "   'frequency': 'alle ore 8 e 20',\n",
       "   'line': 128},\n",
       "  {'medication_name': 'CANREONATO DI POTASSIO',\n",
       "   'medication_dosage': '100 mg',\n",
       "   'mode': '½ cp',\n",
       "   'frequency': 'alle ore 16',\n",
       "   'line': 129},\n",
       "  {'medication_name': 'LORAZEPAM',\n",
       "   'medication_dosage': '1 mg',\n",
       "   'mode': '1 cp',\n",
       "   'frequency': 'alle ore 8',\n",
       "   'line': 130},\n",
       "  {'medication_name': 'QUETIAPINA',\n",
       "   'medication_dosage': '25 mg',\n",
       "   'mode': '1 cp',\n",
       "   'frequency': 'alle ore 22 (da sospendere eventualmente prima del rientro a domicilio)',\n",
       "   'line': 131}]}"
      ]
     },
     "execution_count": 13,
     "metadata": {},
     "output_type": "execute_result"
    }
   ],
   "execution_count": 13
  },
  {
   "metadata": {},
   "cell_type": "markdown",
   "source": "## CSV",
   "id": "9a5123160a315034"
  },
  {
   "metadata": {
    "ExecuteTime": {
     "end_time": "2024-04-24T09:12:19.675776Z",
     "start_time": "2024-04-24T09:12:19.668863Z"
    }
   },
   "cell_type": "code",
   "source": "input_text = InputStep('input text', '')",
   "id": "5eca6cb16c4ce976",
   "outputs": [],
   "execution_count": 14
  },
  {
   "metadata": {
    "ExecuteTime": {
     "end_time": "2024-04-24T09:12:48.917857Z",
     "start_time": "2024-04-24T09:12:48.907308Z"
    }
   },
   "cell_type": "code",
   "source": [
    "prompt_dir = 'prompt_CSV.txt'\n",
    "prompt = open(prompt_dir).read()\n",
    "\n",
    "params = json.load(open('params.json', 'r'))\n",
    "\n",
    "\n",
    "def map_input(inputs: list = None):\n",
    "    chunks = inputs[0].output.value['chunks']\n",
    "    \n",
    "    examples = ''\n",
    "    for i,chunk in enumerate(chunks):\n",
    "        examples += '``` example' + str(i+1) + '.txt\\n'\n",
    "        examples += chunk['text'] + '\\n'\n",
    "        examples += '```\\n'\n",
    "        examples += '``` example' + str(i+1) + '.csv\\n'\n",
    "        examples += 'chem_name;dosage;mode;frequency\\n'\n",
    "        for ann in chunk['annotations']:\n",
    "            examples += ';'.join([value for value in list(ann.values())[:4]]) + '\\n'\n",
    "        examples += '```\\n---\\n'\n",
    "    return {'examples': examples, 'document': inputs[0].output.value['document']}\n",
    "\n",
    "\n",
    "def map_output(output):\n",
    "    output = output.replace('<dummy32000>', '')\n",
    "    if not output.endswith('<|im_end|>'):\n",
    "        output += '<|im_end|>'\n",
    "    return output\n",
    "\n",
    "\n",
    "step1 = Step(LLamaCppModel(instance_url), 'step1', prompt, params, map_input, map_output, inputs=[input_text])"
   ],
   "id": "f093e2a7639d27cb",
   "outputs": [],
   "execution_count": 15
  },
  {
   "metadata": {
    "ExecuteTime": {
     "end_time": "2024-04-24T09:12:49.973817Z",
     "start_time": "2024-04-24T09:12:49.964224Z"
    }
   },
   "cell_type": "code",
   "source": "parse_csv = ParseCSVStep('parse_csv', ';', [step1])",
   "id": "7a5b1aa456a0227",
   "outputs": [],
   "execution_count": 16
  },
  {
   "metadata": {
    "ExecuteTime": {
     "end_time": "2024-04-24T09:12:54.397344Z",
     "start_time": "2024-04-24T09:12:50.687781Z"
    }
   },
   "cell_type": "code",
   "source": [
    "ans = []\n",
    "pbar = tqdm(dataset)\n",
    "pipeline = Pipeline(parse_csv)\n",
    "for sample in pbar:\n",
    "    input_text.input.value = {'chunks':chunks, 'document': sample['text']}\n",
    "    res = pipeline()\n",
    "    ans.append({'file': sample['file'], 'out': res})"
   ],
   "id": "6586916e106cc9cc",
   "outputs": [
    {
     "name": "stderr",
     "output_type": "stream",
     "text": [
      "  0%|          | 0/7 [00:03<?, ?it/s]\n",
      "\n",
      "KeyboardInterrupt\n",
      "\n"
     ]
    }
   ],
   "execution_count": 17
  },
  {
   "metadata": {
    "ExecuteTime": {
     "end_time": "2024-04-23T16:55:22.908030Z",
     "start_time": "2024-04-23T16:55:22.898309Z"
    }
   },
   "cell_type": "code",
   "source": [
    "ans = [{\n",
    "    'file': file['file'],\n",
    "    'out': [{\n",
    "        'medication_name': out[0],\n",
    "        'dosage': out[1],\n",
    "        'mode': out[2],\n",
    "        'frequency': out[3], \n",
    "    }\n",
    "        for out in file['out'] if len(out) == 4\n",
    "    ]\n",
    "} for file in ans]\n"
   ],
   "id": "fd32bbc9ae121450",
   "outputs": [],
   "execution_count": 42
  },
  {
   "metadata": {
    "ExecuteTime": {
     "end_time": "2024-04-23T16:55:24.154401Z",
     "start_time": "2024-04-23T16:55:24.138412Z"
    }
   },
   "cell_type": "code",
   "source": [
    "result = {\n",
    "    'experiment_name': 'One Shot - Mistral - N2C2 - CSV',\n",
    "    'inputs': [file['file'] for file in dataset],\n",
    "    'outputs': ans,\n",
    "    'pipeline': json.loads(str(pipeline))\n",
    "}\n",
    "json.dump(result, open('result_FSC_MIS_N2C2_CSV.json', 'w'))"
   ],
   "id": "7f5f1e42ff5318e2",
   "outputs": [],
   "execution_count": 43
  },
  {
   "metadata": {},
   "cell_type": "markdown",
   "source": "### JSON",
   "id": "2e8d3d717fa4d12c"
  },
  {
   "metadata": {
    "ExecuteTime": {
     "end_time": "2024-04-23T22:49:01.091729Z",
     "start_time": "2024-04-23T22:49:01.082935Z"
    }
   },
   "cell_type": "code",
   "source": "input_text = InputStep('input text', '')",
   "id": "8927779452c2be3b",
   "outputs": [],
   "execution_count": 7
  },
  {
   "metadata": {
    "ExecuteTime": {
     "end_time": "2024-04-23T22:49:02.229558Z",
     "start_time": "2024-04-23T22:49:02.213009Z"
    }
   },
   "cell_type": "code",
   "source": [
    "prompt_dir = 'prompt_JSON.txt'\n",
    "prompt = open(prompt_dir).read()\n",
    "\n",
    "params = json.load(open('params.json', 'r'))\n",
    "\n",
    "\n",
    "def map_input(inputs: list = None):\n",
    "    chunks = inputs[0].output.value['chunks']\n",
    "    \n",
    "    examples = ''\n",
    "    for i,chunk in enumerate(chunks):\n",
    "        examples += '``` example' + str(i+1) + '.txt\\n'\n",
    "        examples += chunk['text'] + '\\n'\n",
    "        examples += '```\\n'\n",
    "        examples += '``` example' + str(i+1) + '.json\\n'\n",
    "        examples += json.dumps(chunk['annotations'], indent=4) + '\\n'\n",
    "        examples += '```\\n---\\n'\n",
    "    return {'examples': examples, 'document': inputs[0].output.value['document']}\n",
    "\n",
    "\n",
    "def map_output(output):\n",
    "    output = output.replace('<dummy32000>', '')\n",
    "    if not output.endswith('<|im_end|>'):\n",
    "        output += '<|im_end|>'\n",
    "    return output\n",
    "\n",
    "\n",
    "step1 = Step(LLamaCppModel(instance_url), 'step1', prompt, params, map_input, map_output, inputs=[input_text])"
   ],
   "id": "e29fb14417287d5b",
   "outputs": [],
   "execution_count": 8
  },
  {
   "metadata": {
    "ExecuteTime": {
     "end_time": "2024-04-23T22:49:05.036279Z",
     "start_time": "2024-04-23T22:49:05.026832Z"
    }
   },
   "cell_type": "code",
   "source": "to_json = ToJsonStep('to json', [step1])",
   "id": "a893441838e52bbe",
   "outputs": [],
   "execution_count": 9
  },
  {
   "metadata": {
    "jupyter": {
     "is_executing": true
    },
    "ExecuteTime": {
     "start_time": "2024-04-23T22:49:05.705740Z"
    }
   },
   "cell_type": "code",
   "source": [
    "ans = []\n",
    "pbar = tqdm(dataset)\n",
    "pipeline = Pipeline(to_json)\n",
    "for sample in pbar:\n",
    "    input_text.input.value = {'chunks':chunks, 'document': sample['text']}\n",
    "    res = pipeline()\n",
    "    ans.append({'file': sample['file'], 'out': res})"
   ],
   "id": "25fd738c7bbac8ba",
   "outputs": [
    {
     "name": "stderr",
     "output_type": "stream",
     "text": [
      " 67%|██████▋   | 64/96 [14:43<06:01, 11.30s/it] "
     ]
    }
   ],
   "execution_count": null
  },
  {
   "metadata": {
    "ExecuteTime": {
     "end_time": "2024-04-23T22:06:51.593424Z",
     "start_time": "2024-04-23T22:06:51.576099Z"
    }
   },
   "cell_type": "code",
   "source": [
    "result = {\n",
    "    'experiment_name': 'One Shot - Mistral - N2C2 - JSON',\n",
    "    'inputs': [file['file'] for file in dataset],\n",
    "    'outputs': ans,\n",
    "    'pipeline': json.loads(str(pipeline))\n",
    "}\n",
    "json.dump(result, open('result_FSC_MIS_N2C2_JSON.json', 'w'))"
   ],
   "id": "5404258c432fcf06",
   "outputs": [],
   "execution_count": 55
  },
  {
   "metadata": {},
   "cell_type": "code",
   "outputs": [],
   "execution_count": null,
   "source": "",
   "id": "559513dc22202e7"
  }
 ],
 "metadata": {
  "kernelspec": {
   "display_name": "Python 3",
   "language": "python",
   "name": "python3"
  },
  "language_info": {
   "codemirror_mode": {
    "name": "ipython",
    "version": 2
   },
   "file_extension": ".py",
   "mimetype": "text/x-python",
   "name": "python",
   "nbconvert_exporter": "python",
   "pygments_lexer": "ipython2",
   "version": "2.7.6"
  }
 },
 "nbformat": 4,
 "nbformat_minor": 5
}
