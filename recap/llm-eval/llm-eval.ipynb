{
 "cells": [
  {
   "cell_type": "code",
   "id": "initial_id",
   "metadata": {
    "collapsed": true,
    "ExecuteTime": {
     "end_time": "2024-04-16T06:56:11.885482Z",
     "start_time": "2024-04-16T06:56:11.851098Z"
    }
   },
   "source": [
    "%load_ext autoreload\n",
    "%autoreload 2\n",
    "\n",
    "import os\n",
    "import json\n",
    "import genesis_cloud.utils as u\n",
    "from tqdm import tqdm\n",
    "from step.step import *\n",
    "from llama_cpp import Llama, LlamaGrammar\n",
    "import time\n",
    "import random\n",
    "instance_url = '147.189.192.78:8080'\n"
   ],
   "outputs": [
    {
     "name": "stdout",
     "output_type": "stream",
     "text": [
      "The autoreload extension is already loaded. To reload it, use:\n",
      "  %reload_ext autoreload\n"
     ]
    }
   ],
   "execution_count": 48
  },
  {
   "metadata": {},
   "cell_type": "markdown",
   "source": "### Grammar based ",
   "id": "86ec53b355235e60"
  },
  {
   "metadata": {
    "ExecuteTime": {
     "end_time": "2024-04-16T07:06:21.128261Z",
     "start_time": "2024-04-16T07:06:21.115429Z"
    }
   },
   "cell_type": "code",
   "source": [
    "table_1 = [\n",
    "['MYCOPHENOLATE MOFETIL', '1000 MG PO BID', 'BID', ''],\n",
    "  ['OXYBUTYNIN CHLORIDE XL', '10 MG PO QD', 'QD', ''],\n",
    "  ['INSULIN GLARGINE', '20 UNITS SC QAM', 'QAM', ''],\n",
    "  ['FUROSEMIDE', 'PO QD', 'QD', ''],\n",
    "  ['CLOPIDOGREL', '75 MG PO QD', 'QD', ''],\n",
    "  ['PRAVASTIN', '40 MG PO QHS', 'QHS', ''],\n",
    "  ['PREDNISONE', '5 MG PO QD', 'QD', ''],\n",
    "  ['CYCLOSPORINE (SANDIMMUNE)', '75 MG PO BID', 'BID', ''],\n",
    "  ['METOPROLOL SUCCINATE EXTENDED RELEASE', '50 MG PO QD', 'QD', ''],\n",
    "  ['FENOFIBRATE (TRICOR)', '48 MG PO QD', 'QD', ''],\n",
    "  ['ENTERIC COATED ASA', '325 MG PO DAILY', 'DAILY', ''],\n",
    "  ['PLAVIX (CLOPIDOGREL)', '75 MG PO DAILY', 'DAILY', ''],\n",
    "  ['CYCLOSPORINE (SANDIMMUNE)', '75 MG PO BID', 'BID', ''],\n",
    "  ['LASIX (FUROSEMIDE)', '40 MG PO DAILY', 'DAILY', ''],\n",
    "  ['INSULIN GLARGINE', '20 UNITS SC DAILY', 'DAILY', ''],\n",
    "  ['CELLCEPT (MYCOPHENOLATE MOFETIL)', '1, 000 MG PO BID', 'BID', ''],\n",
    "  ['TNG 0.4 MG (NITROGLYCERIN 1/150 (0.4 MG))','1 TAB SL Q5MIN X 3 doses PRN Chest Pain','PRN',''],\n",
    "  ['PRAVACHOL (PRAVASTIN)', '40 MG PO BEDTIME', 'BEDTIME', ''],\n",
    "  ['PREDNISOLONE SODIUM PHOSPHATE', '5MG/5ML 5 MG PO DAILY', 'DAILY', '']]\n",
    "table_2 = [\n",
    " ['mycophenolate mofetil', '1000 mg', 'po', 'bid', '19'],\n",
    " ['oxybutynin chloride xl', '10 mg', 'po', 'qd', '20'],\n",
    " ['insulin glargine', '20 units', 'sc', 'qam', '21'],\n",
    " ['furosemide', '', 'po', 'qd', '22'],\n",
    " ['clopidogrel', '75 mg', 'po', 'qd', '23'],\n",
    " ['pravastatin', '40 mg', 'po', 'qhs', '24'],\n",
    " ['prednisone', '5 mg', 'po', 'qd', '25'],\n",
    " ['cyclosporine ( sandimmune )', '75 mg', 'po', 'bid', '26'],\n",
    " ['metoprolol succinate extended release', '50 mg', 'po', 'qd', '27'],\n",
    " ['fenofibrate ( tricor )', '48 mg', 'po', 'qd', '28'],\n",
    " ['enteric coated asa', '325 mg', 'po', 'daily', '30'],\n",
    " ['plavix ( clopidogrel )', '75 mg', 'po', 'daily', '31'],\n",
    " ['cyclosporine ( sandimmune )', '75 mg', 'po', 'bid', '33'],\n",
    " ['tricor', '', 'po', '', '37'],\n",
    " ['cyclosporine', '', '', '', '38'],\n",
    " ['fenofibrate , micronized', '', '', '', '39'],\n",
    " ['micronized', '', '', '', '39'],\n",
    " ['home meds', '', '', '', '40'],\n",
    " ['pravastatin sodium', '', '', '', '42']]"
   ],
   "id": "8d7c30683401927",
   "outputs": [],
   "execution_count": 76
  },
  {
   "metadata": {
    "ExecuteTime": {
     "end_time": "2024-04-16T07:06:21.579693Z",
     "start_time": "2024-04-16T07:06:21.572131Z"
    }
   },
   "cell_type": "code",
   "source": "table_2 = [row[:4] for row in table_2]",
   "id": "fa0880c088a05665",
   "outputs": [],
   "execution_count": 77
  },
  {
   "metadata": {
    "ExecuteTime": {
     "end_time": "2024-04-16T07:06:21.980142Z",
     "start_time": "2024-04-16T07:06:21.973317Z"
    }
   },
   "cell_type": "code",
   "source": [
    "prompt = \"\"\"\n",
    "Two extracted rows are considered to contain the same information if this expression holds true:\n",
    "(The first column of both rows contain the same information) \n",
    "AND (\n",
    "    (The second column of both rows contain the same information) \n",
    "    OR\n",
    "    (The third column of both rows contain the same information)\n",
    "    OR\n",
    "    (The fourth column of both rows contain the same information)\n",
    ")\n",
    "\"\"\""
   ],
   "id": "9b89968e023350c5",
   "outputs": [],
   "execution_count": 78
  },
  {
   "metadata": {
    "ExecuteTime": {
     "end_time": "2024-04-16T07:06:22.476555Z",
     "start_time": "2024-04-16T07:06:22.467959Z"
    }
   },
   "cell_type": "code",
   "source": [
    "grammar = \"\"\"\n",
    "root ::= \\\"\\n\n",
    "\"\"\"\n",
    "for i, j in zip(table_1, table_2):\n",
    "    grammar += \"row 1: \" + \";\".join(i) + \"\\n\"\n",
    "    grammar += \"row 2: \" + \";\".join(j) + \"\\n\"\n",
    "    grammar += \"Contains same information: \\\" boolean\"\n",
    "    grammar += \"\\\"\\\\n---\\n\"\n",
    "\n",
    "grammar += \"\\\"\\nboolean ::= \\\"true\\\" | \\\"false\\\"\"\n",
    "print(grammar)"
   ],
   "id": "5a863496c1649c55",
   "outputs": [
    {
     "name": "stdout",
     "output_type": "stream",
     "text": [
      "\n",
      "root ::= \"\n",
      "\n",
      "row 1: MYCOPHENOLATE MOFETIL;1000 MG PO BID;BID;\n",
      "row 2: mycophenolate mofetil;1000 mg;po;bid\n",
      "Contains same information: \" boolean\"\\n---\n",
      "row 1: OXYBUTYNIN CHLORIDE XL;10 MG PO QD;QD;\n",
      "row 2: oxybutynin chloride xl;10 mg;po;qd\n",
      "Contains same information: \" boolean\"\\n---\n",
      "row 1: INSULIN GLARGINE;20 UNITS SC QAM;QAM;\n",
      "row 2: insulin glargine;20 units;sc;qam\n",
      "Contains same information: \" boolean\"\\n---\n",
      "row 1: FUROSEMIDE;PO QD;QD;\n",
      "row 2: furosemide;;po;qd\n",
      "Contains same information: \" boolean\"\\n---\n",
      "row 1: CLOPIDOGREL;75 MG PO QD;QD;\n",
      "row 2: clopidogrel;75 mg;po;qd\n",
      "Contains same information: \" boolean\"\\n---\n",
      "row 1: PRAVASTIN;40 MG PO QHS;QHS;\n",
      "row 2: pravastatin;40 mg;po;qhs\n",
      "Contains same information: \" boolean\"\\n---\n",
      "row 1: PREDNISONE;5 MG PO QD;QD;\n",
      "row 2: prednisone;5 mg;po;qd\n",
      "Contains same information: \" boolean\"\\n---\n",
      "row 1: CYCLOSPORINE (SANDIMMUNE);75 MG PO BID;BID;\n",
      "row 2: cyclosporine ( sandimmune );75 mg;po;bid\n",
      "Contains same information: \" boolean\"\\n---\n",
      "row 1: METOPROLOL SUCCINATE EXTENDED RELEASE;50 MG PO QD;QD;\n",
      "row 2: metoprolol succinate extended release;50 mg;po;qd\n",
      "Contains same information: \" boolean\"\\n---\n",
      "row 1: FENOFIBRATE (TRICOR);48 MG PO QD;QD;\n",
      "row 2: fenofibrate ( tricor );48 mg;po;qd\n",
      "Contains same information: \" boolean\"\\n---\n",
      "row 1: ENTERIC COATED ASA;325 MG PO DAILY;DAILY;\n",
      "row 2: enteric coated asa;325 mg;po;daily\n",
      "Contains same information: \" boolean\"\\n---\n",
      "row 1: PLAVIX (CLOPIDOGREL);75 MG PO DAILY;DAILY;\n",
      "row 2: plavix ( clopidogrel );75 mg;po;daily\n",
      "Contains same information: \" boolean\"\\n---\n",
      "row 1: CYCLOSPORINE (SANDIMMUNE);75 MG PO BID;BID;\n",
      "row 2: cyclosporine ( sandimmune );75 mg;po;bid\n",
      "Contains same information: \" boolean\"\\n---\n",
      "row 1: LASIX (FUROSEMIDE);40 MG PO DAILY;DAILY;\n",
      "row 2: tricor;;po;\n",
      "Contains same information: \" boolean\"\\n---\n",
      "row 1: INSULIN GLARGINE;20 UNITS SC DAILY;DAILY;\n",
      "row 2: cyclosporine;;;\n",
      "Contains same information: \" boolean\"\\n---\n",
      "row 1: CELLCEPT (MYCOPHENOLATE MOFETIL);1, 000 MG PO BID;BID;\n",
      "row 2: fenofibrate , micronized;;;\n",
      "Contains same information: \" boolean\"\\n---\n",
      "row 1: TNG 0.4 MG (NITROGLYCERIN 1/150 (0.4 MG));1 TAB SL Q5MIN X 3 doses PRN Chest Pain;PRN;\n",
      "row 2: micronized;;;\n",
      "Contains same information: \" boolean\"\\n---\n",
      "row 1: PRAVACHOL (PRAVASTIN);40 MG PO BEDTIME;BEDTIME;\n",
      "row 2: home meds;;;\n",
      "Contains same information: \" boolean\"\\n---\n",
      "row 1: PREDNISOLONE SODIUM PHOSPHATE;5MG/5ML 5 MG PO DAILY;DAILY;\n",
      "row 2: pravastatin sodium;;;\n",
      "Contains same information: \" boolean\"\\n---\n",
      "\"\n",
      "boolean ::= \"true\" | \"false\"\n"
     ]
    }
   ],
   "execution_count": 79
  },
  {
   "metadata": {
    "ExecuteTime": {
     "end_time": "2024-04-15T17:20:19.970285Z",
     "start_time": "2024-04-15T17:19:55.162117Z"
    }
   },
   "cell_type": "code",
   "source": [
    "%%time\n",
    "out = u.call_model(instance_url, prompt, grammar=grammar)\n",
    "print(out)"
   ],
   "id": "b80dba04e3002a54",
   "outputs": [
    {
     "name": "stdout",
     "output_type": "stream",
     "text": [
      "\n",
      "\n",
      "row 1: MYCOPHENOLATE MOFETIL;1000 MG PO BID;BID;\n",
      "row 2: mycophenolate mofetil;1000 mg;po;bid\n",
      "Contains same information: true\n",
      "---\n",
      "row 1: OXYBUTYNIN CHLORIDE XL;10 MG PO QD;QD;\n",
      "row 2: oxybutynin chloride xl;10 mg;po;qd\n",
      "Contains same information: true\n",
      "---\n",
      "row 1: INSULIN GLARGINE;20 UNITS SC QAM;QAM;\n",
      "row 2: insulin glargine;20 units;sc;qam\n",
      "Contains same information: false\n",
      "---\n",
      "row 1: FUROSEMIDE;PO QD;QD;\n",
      "row 2: furosemide;nm;po;qd\n",
      "Contains same information: false\n",
      "---\n",
      "row 1: CLOPIDOGREL;75 MG PO QD;QD;\n",
      "row 2: clopidogrel;75 mg;po;qd\n",
      "Contains same information: true\n",
      "---\n",
      "row 1: PRAVASTIN;40 MG PO QHS;QHS;\n",
      "row 2: pravastatin;40 mg;po;qhs\n",
      "Contains same information: true\n",
      "---\n",
      "row 1: PREDNISONE;5 MG PO QD;QD;\n",
      "row 2: prednisone;5 mg;po;qd\n",
      "Contains same information: true\n",
      "---\n",
      "row 1: CYCLOSPORINE (SANDIMMUNE);75 MG PO BID;BID;\n",
      "row 2: cyclosporine ( sandimmune );75 mg;po;bid\n",
      "Contains same information: true\n",
      "---\n",
      "row 1: METOPROLOL SUCCINATE EXTENDED RELEASE;50 MG PO QD;QD;\n",
      "row 2: metoprolol succinate extended release;50 mg;po;qd\n",
      "Contains same information: true\n",
      "---\n",
      "row 1: FENOFIBRATE (TRICOR);48 MG PO QD;QD;\n",
      "row 2: fenofibrate ( tricor );48 mg;po;qd\n",
      "Contains same information: true\n",
      "---\n",
      "row 1: ENTERIC COATED ASA;325 MG PO DAILY;DAILY;\n",
      "row 2: enteric coated asa;325 mg;po;daily\n",
      "Contains same information: true\n",
      "---\n",
      "row 1: PLAVIX (CLOPIDOGREL);75 MG PO DAILY;DAILY;\n",
      "row 2: plavix ( clopidogrel );75 mg;po;daily\n",
      "Contains same information: true\n",
      "---\n",
      "row 1: CYCLOSPORINE (SANDIMMUNE);75 MG PO BID;BID;\n",
      "row 2: cyclosporine ( sandimmune );75 mg;po;bid\n",
      "Contains same information: true\n",
      "---\n",
      "row 1: LASIX (FUROSEMIDE);40 MG PO DAILY;DAILY;\n",
      "row 2: tricor;nm;po;nm\n",
      "Contains same information: false\n",
      "---\n",
      "row 1: INSULIN GLARGINE;20 UNITS SC DAILY;DAILY;\n",
      "row 2: cyclosporine;nm;nm;nm\n",
      "Contains same information: false\n",
      "---\n",
      "row 1: CELLCEPT (MYCOPHENOLATE MOFETIL);1, 000 MG PO BID;BID;\n",
      "row 2: fenofibrate , micronized;nm;nm;nm\n",
      "Contains same information: false\n",
      "---\n",
      "row 1: TNG 0.4 MG (NITROGLYCERIN 1/150 (0.4 MG));1 TAB SL Q5MIN X 3 doses PRN Chest Pain;PRN;\n",
      "row 2: micronized;nm;nm;nm\n",
      "Contains same information: false\n",
      "---\n",
      "row 1: PRAVACHOL (PRAVASTIN);40 MG PO BEDTIME;BEDTIME;\n",
      "row 2: home meds;nm;nm;nm\n",
      "Contains same information: false\n",
      "---\n",
      "row 1: PREDNISOLONE SODIUM PHOSPHATE;5MG/5ML 5 MG PO DAILY;DAILY;\n",
      "row 2: pravastatin sodium;nm;nm;nm\n",
      "Contains same information: false\n",
      "---\n",
      "<dummy32000>\n",
      "CPU times: user 5.96 ms, sys: 2.43 ms, total: 8.39 ms\n",
      "Wall time: 24.6 s\n"
     ]
    }
   ],
   "execution_count": 6
  },
  {
   "metadata": {},
   "cell_type": "code",
   "outputs": [],
   "execution_count": null,
   "source": "",
   "id": "60e599e1bd360821"
  },
  {
   "metadata": {},
   "cell_type": "markdown",
   "source": "### Prompt based",
   "id": "f480b2960e824562"
  },
  {
   "metadata": {
    "ExecuteTime": {
     "end_time": "2024-04-16T07:06:53.437288Z",
     "start_time": "2024-04-16T07:06:28.564331Z"
    }
   },
   "cell_type": "code",
   "source": [
    "%%time\n",
    "\n",
    "output2 = []\n",
    "for _ in range(3):\n",
    "    prompt = \"\"\"\n",
    "If the 50% or more of the information in the two rows is the same, consider them to contain the same information.\n",
    "Notice that order does not matter. \n",
    "\n",
    "\"\"\"\n",
    "    output_tmp = []\n",
    "    joint = list(enumerate(zip(table_1, table_2)))\n",
    "    random.shuffle(joint)\n",
    "    for row in joint:\n",
    "        prompt += \"row 1: \" + \" \".join(row[1][0]) + \"\\n\"\n",
    "        prompt += \"row 2: \" + \" \".join(row[1][1]) + \"\\n\"\n",
    "        prompt += \"Contains same information: \"\n",
    "        out = u.call_model(instance_url,  prompt, temperature=0.8, grammar=\"root ::= \\\"true\\n\\\" | \\\"false\\n\\\"\")\n",
    "        if \"true\" in out:\n",
    "            out = \"true\"\n",
    "        else:\n",
    "            out = \"false\"\n",
    "        output_tmp.append([row[0], out])\n",
    "        prompt += out + '\\n---\\n'\n",
    "    output_tmp = sorted(output_tmp, key=lambda x: x[0])\n",
    "    output_tmp = [x[1] for x in output_tmp]\n",
    "    output2.append(output_tmp)"
   ],
   "id": "41470f74743a5406",
   "outputs": [
    {
     "name": "stdout",
     "output_type": "stream",
     "text": [
      "CPU times: user 229 ms, sys: 48.2 ms, total: 277 ms\n",
      "Wall time: 24.9 s\n"
     ]
    }
   ],
   "execution_count": 80
  },
  {
   "metadata": {
    "ExecuteTime": {
     "end_time": "2024-04-16T07:06:53.455167Z",
     "start_time": "2024-04-16T07:06:53.439544Z"
    }
   },
   "cell_type": "code",
   "source": "output = output2",
   "id": "7bf2cad8adfb9de4",
   "outputs": [],
   "execution_count": 81
  },
  {
   "metadata": {
    "ExecuteTime": {
     "end_time": "2024-04-16T07:06:53.466282Z",
     "start_time": "2024-04-16T07:06:53.456444Z"
    }
   },
   "cell_type": "code",
   "source": [
    "### convert true in +1 and false in -1\n",
    "output = [[1 if x == \"true\" else -1 for x in y] for y in output]\n",
    "\n",
    "### sum column wise\n",
    "output = [sum(x) for x in zip(*output)]"
   ],
   "id": "1927e26926f221d",
   "outputs": [],
   "execution_count": 82
  },
  {
   "metadata": {
    "ExecuteTime": {
     "end_time": "2024-04-16T07:06:53.475994Z",
     "start_time": "2024-04-16T07:06:53.467979Z"
    }
   },
   "cell_type": "code",
   "source": "output = [(x, True) if x > 0 else (x, False) for x in output]",
   "id": "9a31969f3585ce33",
   "outputs": [],
   "execution_count": 83
  },
  {
   "metadata": {
    "ExecuteTime": {
     "end_time": "2024-04-16T07:06:53.485693Z",
     "start_time": "2024-04-16T07:06:53.476581Z"
    }
   },
   "cell_type": "code",
   "source": [
    "rows_1 = [\" \".join(row) for row in table_1]\n",
    "rows_2 = [\" \".join(row) for row in table_2]\n",
    "list(zip(rows_1, rows_2, output))"
   ],
   "id": "f93d67c2ac37e1e8",
   "outputs": [
    {
     "data": {
      "text/plain": [
       "[('MYCOPHENOLATE MOFETIL 1000 MG PO BID BID ',\n",
       "  'mycophenolate mofetil 1000 mg po bid',\n",
       "  (3, True)),\n",
       " ('OXYBUTYNIN CHLORIDE XL 10 MG PO QD QD ',\n",
       "  'oxybutynin chloride xl 10 mg po qd',\n",
       "  (3, True)),\n",
       " ('INSULIN GLARGINE 20 UNITS SC QAM QAM ',\n",
       "  'insulin glargine 20 units sc qam',\n",
       "  (3, True)),\n",
       " ('FUROSEMIDE PO QD QD ', 'furosemide  po qd', (3, True)),\n",
       " ('CLOPIDOGREL 75 MG PO QD QD ', 'clopidogrel 75 mg po qd', (3, True)),\n",
       " ('PRAVASTIN 40 MG PO QHS QHS ', 'pravastatin 40 mg po qhs', (1, True)),\n",
       " ('PREDNISONE 5 MG PO QD QD ', 'prednisone 5 mg po qd', (3, True)),\n",
       " ('CYCLOSPORINE (SANDIMMUNE) 75 MG PO BID BID ',\n",
       "  'cyclosporine ( sandimmune ) 75 mg po bid',\n",
       "  (3, True)),\n",
       " ('METOPROLOL SUCCINATE EXTENDED RELEASE 50 MG PO QD QD ',\n",
       "  'metoprolol succinate extended release 50 mg po qd',\n",
       "  (3, True)),\n",
       " ('FENOFIBRATE (TRICOR) 48 MG PO QD QD ',\n",
       "  'fenofibrate ( tricor ) 48 mg po qd',\n",
       "  (3, True)),\n",
       " ('ENTERIC COATED ASA 325 MG PO DAILY DAILY ',\n",
       "  'enteric coated asa 325 mg po daily',\n",
       "  (3, True)),\n",
       " ('PLAVIX (CLOPIDOGREL) 75 MG PO DAILY DAILY ',\n",
       "  'plavix ( clopidogrel ) 75 mg po daily',\n",
       "  (3, True)),\n",
       " ('CYCLOSPORINE (SANDIMMUNE) 75 MG PO BID BID ',\n",
       "  'cyclosporine ( sandimmune ) 75 mg po bid',\n",
       "  (3, True)),\n",
       " ('LASIX (FUROSEMIDE) 40 MG PO DAILY DAILY ', 'tricor  po ', (-3, False)),\n",
       " ('INSULIN GLARGINE 20 UNITS SC DAILY DAILY ', 'cyclosporine   ', (-3, False)),\n",
       " ('CELLCEPT (MYCOPHENOLATE MOFETIL) 1, 000 MG PO BID BID ',\n",
       "  'fenofibrate , micronized   ',\n",
       "  (-3, False)),\n",
       " ('TNG 0.4 MG (NITROGLYCERIN 1/150 (0.4 MG)) 1 TAB SL Q5MIN X 3 doses PRN Chest Pain PRN ',\n",
       "  'micronized   ',\n",
       "  (-3, False)),\n",
       " ('PRAVACHOL (PRAVASTIN) 40 MG PO BEDTIME BEDTIME ',\n",
       "  'home meds   ',\n",
       "  (-3, False)),\n",
       " ('PREDNISOLONE SODIUM PHOSPHATE 5MG/5ML 5 MG PO DAILY DAILY ',\n",
       "  'pravastatin sodium   ',\n",
       "  (-3, False))]"
      ]
     },
     "execution_count": 84,
     "metadata": {},
     "output_type": "execute_result"
    }
   ],
   "execution_count": 84
  },
  {
   "metadata": {},
   "cell_type": "code",
   "outputs": [],
   "execution_count": null,
   "source": "",
   "id": "a36482db4c1672ae"
  }
 ],
 "metadata": {
  "kernelspec": {
   "display_name": "Python 3",
   "language": "python",
   "name": "python3"
  },
  "language_info": {
   "codemirror_mode": {
    "name": "ipython",
    "version": 2
   },
   "file_extension": ".py",
   "mimetype": "text/x-python",
   "name": "python",
   "nbconvert_exporter": "python",
   "pygments_lexer": "ipython2",
   "version": "2.7.6"
  }
 },
 "nbformat": 4,
 "nbformat_minor": 5
}
