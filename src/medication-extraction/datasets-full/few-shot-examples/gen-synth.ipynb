{
 "cells": [
  {
   "metadata": {
    "ExecuteTime": {
     "end_time": "2024-04-30T14:40:38.859339Z",
     "start_time": "2024-04-30T14:40:38.852799Z"
    }
   },
   "cell_type": "code",
   "source": [
    "import json\n",
    "\n",
    "text = \"\"\"Paziente: Maria Rossi\n",
    "Data: 27 Aprile 2024\n",
    "Storia Clinica\n",
    "Maria Rossi, 45 anni, si presenta con una storia di ipertensione e diabete di tipo 2 diagnosticati due anni fa. Attualmente è in trattamento con metformina 500 mg due volte al giorno per il diabete e valsartan 80 mg una volta al giorno per l'ipertensione.\n",
    "\n",
    "Esame Fisico\n",
    "Durante l'esame fisico, la paziente presenta una pressione arteriosa di 130/80 mmHg e una glicemia a digiuno di 120 mg/dL. Non sono presenti segni di insufficienza cardiaca o alterazioni polmonari.\n",
    "\n",
    "Pianificazione Terapeutica\n",
    "Diabete\n",
    "Continuare con metformina 500 mg due volte al giorno.\n",
    "Aggiungere sitagliptin 100 mg una volta al giorno dopo la colazione.\n",
    "Monitorare la glicemia a digiuno ogni settimana e regolare la terapia in base ai risultati.\n",
    "Ipertensione\n",
    "Continuare con valsartan 80 mg una volta al giorno.\n",
    "Aggiungere idroclorotiazide 12.5 mg una volta al giorno al mattino.\n",
    "Raccomandare una dieta iposodica e un aumento dell'attività fisica.\n",
    "Dolore Cronico\n",
    "Prescrivere paracetamolo 500 mg in caso di dolore moderato, fino a 3 volte al giorno.\n",
    "Osteoporosi\n",
    "Iniziare terapia con alendronato 70 mg una volta alla settimana.\n",
    "Ansia e Depressione\n",
    "Consultare uno psicologo per una valutazione approfondita.\n",
    "Considerare la terapia farmacologica con sertralina 50 mg una volta al giorno, se indicato.\n",
    "Follow-Up\n",
    "La paziente è stata programmata per un follow-up dopo due settimane per monitorare la risposta alla terapia aggiuntiva e per valutare eventuali effetti collaterali.\"\n",
    "\"\"\"\n",
    "annotations = [\n",
    "    {\n",
    "        \"nome_farmaco\": \"metformina\",\n",
    "        \"dosaggio\": \"500 mg\",\n",
    "        \"modalità\": \"due volte al giorno\",\n",
    "        \"frequenza\": \"\",\n",
    "        \"line\": 4,\n",
    "    },\n",
    "    {\n",
    "        \"nome_farmaco\": \"valsartan\",\n",
    "        \"dosaggio\": \"80 mg\",\n",
    "        \"modalità\": \"una volta al giorno\",\n",
    "        \"frequenza\": \"\",\n",
    "        \"line\": 15,\n",
    "    },\n",
    "    {\n",
    "        \"nome_farmaco\": \"sitagliptin\",\n",
    "        \"dosaggio\": \"100 mg\",\n",
    "        \"modalità\": \"una volta al giorno\",\n",
    "        \"frequenza\": \"dopo la colazione\",\n",
    "        \"line\": 12,\n",
    "    },\n",
    "    {\n",
    "        \"nome_farmaco\": \"idroclorotiazide\",\n",
    "        \"dosaggio\": \"12.5 mg\",\n",
    "        \"modalità\": \"una volta al giorno\",\n",
    "        \"frequenza\": \"al mattino\",\n",
    "        \"line\": 16,\n",
    "    },\n",
    "    {\n",
    "        \"nome_farmaco\": \"paracetamolo\",\n",
    "        \"dosaggio\": \"500 mg\",\n",
    "        \"modalità\": \"fino a 3 volte al giorno\",\n",
    "        \"frequenza\": \"\",\n",
    "        \"line\": 19,\n",
    "    },\n",
    "    {\n",
    "        \"nome_farmaco\": \"alendronato\",\n",
    "        \"dosaggio\": \"70 mg\",\n",
    "        \"modalità\": \"una volta alla settimana\",\n",
    "        \"frequenza\": \"\",\n",
    "        \"line\": 21,\n",
    "    },\n",
    "    {\n",
    "        \"nome_farmaco\": \"sertralina\",\n",
    "        \"dosaggio\": \"50 mg\",\n",
    "        \"modalità\": \"una volta al giorno\",\n",
    "        \"frequenza\": \"\",\n",
    "        \"line\": 24,\n",
    "    }\n",
    "]\n"
   ],
   "id": "cb93c1ddf06c8c90",
   "outputs": [],
   "execution_count": 3
  },
  {
   "cell_type": "code",
   "id": "initial_id",
   "metadata": {
    "collapsed": true,
    "ExecuteTime": {
     "end_time": "2024-04-30T14:40:39.448550Z",
     "start_time": "2024-04-30T14:40:39.444964Z"
    }
   },
   "source": [
    "json.dump({\n",
    "    \"text\": text,\n",
    "    \"annotations\": annotations\n",
    "}, open(\"synth-ita/sample1.json\", \"w\"))"
   ],
   "outputs": [],
   "execution_count": 4
  },
  {
   "metadata": {},
   "cell_type": "code",
   "outputs": [],
   "execution_count": null,
   "source": "",
   "id": "e1c1a14916160f93"
  }
 ],
 "metadata": {
  "kernelspec": {
   "display_name": "Python 3",
   "language": "python",
   "name": "python3"
  },
  "language_info": {
   "codemirror_mode": {
    "name": "ipython",
    "version": 2
   },
   "file_extension": ".py",
   "mimetype": "text/x-python",
   "name": "python",
   "nbconvert_exporter": "python",
   "pygments_lexer": "ipython2",
   "version": "2.7.6"
  }
 },
 "nbformat": 4,
 "nbformat_minor": 5
}
