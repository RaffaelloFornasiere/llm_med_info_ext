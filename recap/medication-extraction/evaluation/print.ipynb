{
 "cells": [
  {
   "cell_type": "code",
   "id": "initial_id",
   "metadata": {
    "collapsed": true,
    "ExecuteTime": {
     "end_time": "2024-06-27T23:07:49.008260Z",
     "start_time": "2024-06-27T23:07:49.001604Z"
    }
   },
   "source": [
    "import re\n",
    "import os\n",
    "import json5 as json"
   ],
   "outputs": [],
   "execution_count": 52
  },
  {
   "metadata": {
    "ExecuteTime": {
     "end_time": "2024-06-27T23:07:49.468926Z",
     "start_time": "2024-06-27T23:07:49.466337Z"
    }
   },
   "cell_type": "code",
   "source": "",
   "id": "88e9933574b869a",
   "outputs": [],
   "execution_count": 52
  },
  {
   "metadata": {
    "ExecuteTime": {
     "end_time": "2024-06-27T23:07:49.869877Z",
     "start_time": "2024-06-27T23:07:49.864611Z"
    }
   },
   "cell_type": "code",
   "source": [
    "experiments_dir = '../experiments'\n",
    "experiments_file_pattern = \"eval_.*\\\\.json\"\n",
    "\n",
    "# recursively search for all experiment files\n",
    "eval_files = []\n",
    "for root, dirs, files in os.walk(experiments_dir):\n",
    "    for file in files:\n",
    "        if re.match(experiments_file_pattern, file):\n",
    "            eval_files.append(os.path.join(root, file))\n",
    "\n",
    "eval_files "
   ],
   "id": "9d1a137d2b73496e",
   "outputs": [
    {
     "data": {
      "text/plain": [
       "['../experiments/SZS/SZS_MIS_PSD/eval_PSD_JSON.json',\n",
       " '../experiments/SZS/SZS_MIS_PSD/eval_PSD_CSV.json',\n",
       " '../experiments/SZS/SZS_MIS_N2C2/eval_N2C2_JSON.json',\n",
       " '../experiments/SZS/SZS_MIS_N2C2/eval_N2C2_CSV.json',\n",
       " '../experiments/FS/FSC_MIS_PSD/eval_PSD_JSON.json',\n",
       " '../experiments/FS/FSC_MIS_PSD/eval_PSD_CSV.json',\n",
       " '../experiments/FS/FSC_MIS_N2C2/eval_N2C2_JSON.json',\n",
       " '../experiments/FS/FSC_MIS_N2C2/eval_N2C2_CSV.json',\n",
       " '../experiments/FS/FSF_MIS_PSD/eval_PSD_JSON.json',\n",
       " '../experiments/FS/FSF_MIS_PSD/eval_PSD_CSV.json',\n",
       " '../experiments/FS/FSF_MIS_N2C2/eval_N2C2_JSON.json',\n",
       " '../experiments/FS/FSF_MIS_N2C2/eval_N2C2_CSV.json',\n",
       " '../experiments/P/P_MIS_PSD/eval_PSD_JSON.json',\n",
       " '../experiments/P/P_MIS_PSD/eval_PSD_CSV.json',\n",
       " '../experiments/P/P_MIS_N2C2/eval_N2C2_JSON.json',\n",
       " '../experiments/P/P_MIS_N2C2/eval_N2C2_CSV.json']"
      ]
     },
     "execution_count": 53,
     "metadata": {},
     "output_type": "execute_result"
    }
   ],
   "execution_count": 53
  },
  {
   "metadata": {
    "ExecuteTime": {
     "end_time": "2024-06-27T23:07:50.409502Z",
     "start_time": "2024-06-27T23:07:50.385985Z"
    }
   },
   "cell_type": "code",
   "source": [
    "def get_experiment_name(path):\n",
    "    path = path.split('/')[3:]\n",
    "    \n",
    "    technique = \"Zero-shot\" if \"SZS\" in path[0] else(\"Sequential\" if \"P_\" in path[0] else (\"Few-shot chunks\" if \"FSC\" in path[0] else \"Few-shot full\"))\n",
    "    dataset = \"N2C2 2009\" if \"N2C2\" in path[0] else \"Policlinico San Donato\"\n",
    "    output_format = \"CSV\" if \"CSV\" in path[1] else \"JSON\"\n",
    "    return f\"{technique},{dataset},{output_format}\"\n",
    "\n",
    "def get_eval_name(key):\n",
    "    return \"Full Medication\" if key == \"FullRowExactMatch\" else \"Names Only\"\n",
    "\n",
    "table = []\n",
    "for file in eval_files:\n",
    "    obj = json.loads(open(file).read())\n",
    "    row = \"\"\n",
    "    for key in obj.keys():\n",
    "        t_row = [get_experiment_name(file), key, round(obj[key]['precision'], 3), round(obj[key]['recall'], 3), round(obj[key]['f1_score'], 3)]\n",
    "        table.append(t_row)\n",
    "        str_ = f\"{get_experiment_name(file)},{get_eval_name(key)},{round(obj[key]['precision'], 3)},{round(obj[key]['recall'], 3)},{round(obj[key]['f1_score'], 3)}\"\n",
    "        print(str_)"
   ],
   "id": "f9c5f5c3c6fba770",
   "outputs": [
    {
     "name": "stdout",
     "output_type": "stream",
     "text": [
      "Zero-shot,Policlinico San Donato,JSON,Full Medication,0.427,0.41,0.418\n",
      "Zero-shot,Policlinico San Donato,JSON,Names Only,0.858,0.81,0.833\n",
      "Zero-shot,Policlinico San Donato,CSV,Full Medication,0.0,0.0,0.0\n",
      "Zero-shot,Policlinico San Donato,CSV,Names Only,0.182,0.2,0.19\n",
      "Zero-shot,N2C2 2009,JSON,Full Medication,0.446,0.115,0.181\n",
      "Zero-shot,N2C2 2009,JSON,Names Only,0.964,0.392,0.513\n",
      "Zero-shot,N2C2 2009,CSV,Full Medication,0.418,0.217,0.278\n",
      "Zero-shot,N2C2 2009,CSV,Names Only,0.557,0.453,0.498\n",
      "Few-shot chunks,Policlinico San Donato,JSON,Full Medication,0.403,0.444,0.422\n",
      "Few-shot chunks,Policlinico San Donato,JSON,Names Only,0.438,0.475,0.455\n",
      "Few-shot chunks,Policlinico San Donato,CSV,Full Medication,0.05,0.05,0.05\n",
      "Few-shot chunks,Policlinico San Donato,CSV,Names Only,0.891,0.891,0.891\n",
      "Few-shot chunks,N2C2 2009,JSON,Full Medication,0.616,0.243,0.342\n",
      "Few-shot chunks,N2C2 2009,JSON,Names Only,0.965,0.547,0.683\n",
      "Few-shot chunks,N2C2 2009,CSV,Full Medication,0.38,0.16,0.224\n",
      "Few-shot chunks,N2C2 2009,CSV,Names Only,0.837,0.526,0.636\n",
      "Few-shot full,Policlinico San Donato,JSON,Full Medication,0.69,0.715,0.7\n",
      "Few-shot full,Policlinico San Donato,JSON,Names Only,0.867,0.944,0.898\n",
      "Few-shot full,Policlinico San Donato,CSV,Full Medication,0.433,0.453,0.443\n",
      "Few-shot full,Policlinico San Donato,CSV,Names Only,0.869,0.888,0.878\n",
      "Few-shot full,N2C2 2009,JSON,Full Medication,0.364,0.109,0.166\n",
      "Few-shot full,N2C2 2009,JSON,Names Only,0.885,0.479,0.606\n",
      "Few-shot full,N2C2 2009,CSV,Full Medication,0.366,0.136,0.198\n",
      "Few-shot full,N2C2 2009,CSV,Names Only,0.857,0.546,0.66\n",
      "Sequential,Policlinico San Donato,JSON,Names Only,0.694,0.666,0.679\n",
      "Sequential,Policlinico San Donato,JSON,Full Medication,0.188,0.188,0.188\n",
      "Sequential,Policlinico San Donato,CSV,Names Only,0.694,0.666,0.679\n",
      "Sequential,Policlinico San Donato,CSV,Full Medication,0.156,0.156,0.156\n",
      "Sequential,N2C2 2009,JSON,Full Medication,0.597,0.134,0.217\n",
      "Sequential,N2C2 2009,JSON,Names Only,0.961,0.358,0.512\n",
      "Sequential,N2C2 2009,CSV,Full Medication,0.288,0.055,0.092\n",
      "Sequential,N2C2 2009,CSV,Names Only,0.808,0.318,0.442\n"
     ]
    }
   ],
   "execution_count": 54
  },
  {
   "metadata": {},
   "cell_type": "markdown",
   "source": "convert to latex multirow/multicolumn table",
   "id": "3329cdb338a16e14"
  },
  {
   "metadata": {
    "ExecuteTime": {
     "end_time": "2024-06-22T20:11:11.752130Z",
     "start_time": "2024-06-22T20:11:11.748430Z"
    }
   },
   "cell_type": "code",
   "source": [
    "headers = [\"Technique\", \"Dataset\", \"Output Format\", \"Metric\", \"Precision\", \"Recall\", \"F1 Score\"]\n",
    "\n",
    "# automatically generate latex table\n",
    "# also detect where to put multicolumns or multirows\n",
    "def get_textbf(text):\n",
    "    return f\"\\\\textbf{{{text}}}\"\n",
    "\n",
    "table_str =f\"\"\"\n",
    "\\\\begin{{table}}[ht]\n",
    "    \\\\centering\n",
    "    \\\\begin{{tabular}}{{|{'|'.join(['c']*len(headers))}|}}\n",
    "    \\\\hline\n",
    "    {' & '.join([get_textbf(h) for h in headers])} \\\\\\\\\n",
    "    \\\\hline\n",
    "\"\"\"\n",
    "\n",
    "print(table_str)\n"
   ],
   "id": "d19fa4b1979543fa",
   "outputs": [
    {
     "name": "stdout",
     "output_type": "stream",
     "text": [
      "\n",
      "\\begin{table}[ht]\n",
      "    \\centering\n",
      "    \\begin{tabular}{|c|c|c|c|c|c|c|}\n",
      "    \\hline\n",
      "    Technique & Dataset & Output Format & Metric & Precision & Recall & F1 Score \\\\\n",
      "    \\hline\n",
      "    Technique & Dataset & Output Format & Metric & Precision & Recall & F1 Score\n",
      "\n"
     ]
    }
   ],
   "execution_count": 30
  },
  {
   "metadata": {
    "ExecuteTime": {
     "end_time": "2024-06-22T20:07:17.773898Z",
     "start_time": "2024-06-22T20:07:17.766793Z"
    }
   },
   "cell_type": "code",
   "source": "",
   "id": "7cba9dca3c2b1279",
   "outputs": [
    {
     "name": "stdout",
     "output_type": "stream",
     "text": [
      "\\begin{tabular}{lll}\n",
      "Header 1\\hline\n",
      "Header 2\\hline\n",
      "Header 3\\\\ \\hline\n",
      "& \\multirow{3}{column width here}{}Header 1Header 2Header 3 & & \\multirow{3}{column width here}{}Row 1 Cell 1Row 1 Cell 2Row 1 Cell 3 & & \\multirow{3}{column width here}{}Row 2 Cell 1Row 2 Cell 2Row 2 Cell\\\\\\hline\n",
      "\\end{tabular}}\n"
     ]
    }
   ],
   "execution_count": 26
  },
  {
   "metadata": {},
   "cell_type": "code",
   "outputs": [],
   "execution_count": null,
   "source": "",
   "id": "c726f8d932359ef0"
  }
 ],
 "metadata": {
  "kernelspec": {
   "display_name": "Python 3",
   "language": "python",
   "name": "python3"
  },
  "language_info": {
   "codemirror_mode": {
    "name": "ipython",
    "version": 2
   },
   "file_extension": ".py",
   "mimetype": "text/x-python",
   "name": "python",
   "nbconvert_exporter": "python",
   "pygments_lexer": "ipython2",
   "version": "2.7.6"
  }
 },
 "nbformat": 4,
 "nbformat_minor": 5
}
