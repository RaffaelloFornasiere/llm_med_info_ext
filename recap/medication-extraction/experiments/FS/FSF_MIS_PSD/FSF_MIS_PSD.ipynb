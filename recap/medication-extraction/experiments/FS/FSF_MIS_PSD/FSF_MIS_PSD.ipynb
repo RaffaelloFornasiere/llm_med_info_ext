{
 "cells": [
  {
   "metadata": {},
   "cell_type": "markdown",
   "source": "### Simple Zero Shot - Mistral - N2C2",
   "id": "b564b53ee125147e"
  },
  {
   "cell_type": "code",
   "id": "initial_id",
   "metadata": {
    "collapsed": true,
    "ExecuteTime": {
     "end_time": "2024-04-23T09:46:08.441064Z",
     "start_time": "2024-04-23T09:46:08.270364Z"
    }
   },
   "source": [
    "%load_ext autoreload\n",
    "%autoreload 2\n",
    "import os\n",
    "import json\n",
    "import genesis_cloud.utils as u\n",
    "from tqdm import tqdm\n",
    "from step.step import *\n",
    "import random\n",
    "\n",
    "instance_url = '147.189.192.78:8080'\n"
   ],
   "outputs": [],
   "execution_count": 1
  },
  {
   "metadata": {},
   "cell_type": "markdown",
   "source": "#### Loading dataset",
   "id": "2b20a6eea3ec9b7"
  },
  {
   "metadata": {
    "ExecuteTime": {
     "end_time": "2024-04-23T09:46:10.698187Z",
     "start_time": "2024-04-23T09:46:10.664311Z"
    }
   },
   "cell_type": "code",
   "source": [
    "dataset_dir = '../../../datasets/n2c2-2009/'\n",
    "dataset_files = os.listdir(dataset_dir)\n",
    "all_docs_dataset = []\n",
    "for file in dataset_files:\n",
    "    with open(dataset_dir + file) as f:\n",
    "        try:\n",
    "            obj = json.load(f)\n",
    "            obj['file'] = file\n",
    "            all_docs_dataset.append(obj)\n",
    "        except:\n",
    "            print('Error loading file: ', file)"
   ],
   "id": "27366f61aadde1b4",
   "outputs": [],
   "execution_count": 2
  },
  {
   "metadata": {
    "ExecuteTime": {
     "end_time": "2024-04-23T09:46:11.065134Z",
     "start_time": "2024-04-23T09:46:11.057279Z"
    }
   },
   "cell_type": "code",
   "source": [
    "random.shuffle(all_docs_dataset)\n",
    "example = all_docs_dataset[0]\n",
    "dataset = all_docs_dataset[1:]"
   ],
   "id": "cb669325cbb6c800",
   "outputs": [],
   "execution_count": 3
  },
  {
   "metadata": {
    "ExecuteTime": {
     "end_time": "2024-04-23T09:46:11.551195Z",
     "start_time": "2024-04-23T09:46:11.549716Z"
    }
   },
   "cell_type": "code",
   "source": "",
   "id": "434384e07314a29c",
   "outputs": [],
   "execution_count": 3
  },
  {
   "metadata": {},
   "cell_type": "markdown",
   "source": "## CSV",
   "id": "9a5123160a315034"
  },
  {
   "metadata": {
    "ExecuteTime": {
     "end_time": "2024-04-23T09:46:13.769617Z",
     "start_time": "2024-04-23T09:46:13.761959Z"
    }
   },
   "cell_type": "code",
   "source": "input_text = InputStep('input text', '')",
   "id": "5eca6cb16c4ce976",
   "outputs": [],
   "execution_count": 4
  },
  {
   "metadata": {
    "ExecuteTime": {
     "end_time": "2024-04-23T09:46:17.351160Z",
     "start_time": "2024-04-23T09:46:17.334583Z"
    }
   },
   "cell_type": "code",
   "source": [
    "prompt_dir = 'prompt_CSV.txt'\n",
    "prompt = open(prompt_dir).read()\n",
    "\n",
    "params = json.load(open('params.json', 'r'))\n",
    "\n",
    "\n",
    "def map_input(inputs: list = None):\n",
    "    \n",
    "    example_doc = example['text'],\n",
    "    example_csv = '\\n'.join([';'.join([value for value in list(row.values())[:4]]) for row in example['annotations']]),\n",
    "    document = sample['text']\n",
    "    \n",
    "    example_doc = inputs[0].output.value['example_doc']\n",
    "    example_csv = inputs[0].output.value['example_csv']\n",
    "    document = inputs[0].output.value['document']\n",
    "    return {'example_doc': example_doc, 'example_csv': example_csv, 'document': document}\n",
    "\n",
    "\n",
    "def map_output(output):\n",
    "    output = output.replace('<dummy32000>', '')\n",
    "    if not output.endswith('<|im_end|>'):\n",
    "        output += '<|im_end|>'\n",
    "    return output\n",
    "\n",
    "\n",
    "step1 = Step(LLamaCppModel(instance_url), 'step1', prompt, params, map_input, map_output, inputs=[input_text])"
   ],
   "id": "f093e2a7639d27cb",
   "outputs": [],
   "execution_count": 5
  },
  {
   "metadata": {
    "ExecuteTime": {
     "end_time": "2024-04-23T09:46:20.819730Z",
     "start_time": "2024-04-23T09:46:20.810807Z"
    }
   },
   "cell_type": "code",
   "source": "parse_csv = ParseCSVStep('parse_csv', ';', [step1])",
   "id": "7a5b1aa456a0227",
   "outputs": [],
   "execution_count": 6
  },
  {
   "metadata": {
    "ExecuteTime": {
     "end_time": "2024-04-23T11:09:30.730672Z",
     "start_time": "2024-04-23T10:55:58.321379Z"
    }
   },
   "cell_type": "code",
   "source": [
    "ans = []\n",
    "pbar = tqdm(dataset)\n",
    "pipeline = Pipeline(parse_csv)\n",
    "for sample in pbar:\n",
    "    input_text.input.value = sample\n",
    "    res = pipeline()\n",
    "    ans.append({'file': sample['file'], 'out': res})"
   ],
   "id": "6586916e106cc9cc",
   "outputs": [
    {
     "name": "stderr",
     "output_type": "stream",
     "text": [
      "100%|██████████| 100/100 [13:32<00:00,  8.12s/it]\n"
     ]
    }
   ],
   "execution_count": 34
  },
  {
   "metadata": {
    "ExecuteTime": {
     "end_time": "2024-04-23T11:09:30.748612Z",
     "start_time": "2024-04-23T11:09:30.732917Z"
    }
   },
   "cell_type": "code",
   "source": [
    "ans = [{\n",
    "    'file': file['file'],\n",
    "    'out': [{\n",
    "        'medication_name': out[0],\n",
    "        'dosage': out[1],\n",
    "        'mode': out[2],\n",
    "        'frequency': out[3], \n",
    "    }\n",
    "        for out in file['out'] if len(out) == 4\n",
    "    ]\n",
    "} for file in ans]\n"
   ],
   "id": "fd32bbc9ae121450",
   "outputs": [],
   "execution_count": 35
  },
  {
   "metadata": {
    "ExecuteTime": {
     "end_time": "2024-04-23T11:09:30.768190Z",
     "start_time": "2024-04-23T11:09:30.750029Z"
    }
   },
   "cell_type": "code",
   "source": [
    "result = {\n",
    "    'experiment_name': 'One Shot - Mistral - N2C2 - CSV',\n",
    "    'inputs': [file['file'] for file in dataset],\n",
    "    'outputs': ans,\n",
    "    'pipeline': json.loads(str(pipeline))\n",
    "}\n",
    "json.dump(result, open('result_FSF_MIS_N2C2_CSV.json', 'w'))"
   ],
   "id": "7f5f1e42ff5318e2",
   "outputs": [],
   "execution_count": 36
  },
  {
   "metadata": {},
   "cell_type": "markdown",
   "source": "### JSON",
   "id": "2e8d3d717fa4d12c"
  },
  {
   "metadata": {
    "ExecuteTime": {
     "end_time": "2024-04-23T11:09:30.778272Z",
     "start_time": "2024-04-23T11:09:30.769582Z"
    }
   },
   "cell_type": "code",
   "source": [
    "prompt_dir = 'prompt_JSON.txt'\n",
    "prompt = open(prompt_dir).read()\n",
    "\n",
    "params = json.load(open('params.json', 'r'))\n",
    "\n",
    "\n",
    "def map_input(inputs: list = None):\n",
    "    example_doc = inputs[0].output.value['example_doc']\n",
    "    example_json = inputs[0].output.value['example_json']\n",
    "    document = inputs[0].output.value['document']\n",
    "    return {'example_doc': example_doc, 'example_json': example_json, 'document': document}\n",
    "\n",
    "\n",
    "def map_output(output):\n",
    "    output = output.replace('<dummy32000>', '')\n",
    "    if not output.endswith('<|im_end|>'):\n",
    "        output += '<|im_end|>'\n",
    "    return output\n",
    "\n",
    "\n",
    "step1 = Step(LLamaCppModel(instance_url), 'step1', prompt, params, map_input, map_output, inputs=[input_text])"
   ],
   "id": "e29fb14417287d5b",
   "outputs": [],
   "execution_count": 37
  },
  {
   "metadata": {
    "ExecuteTime": {
     "end_time": "2024-04-23T11:09:30.785832Z",
     "start_time": "2024-04-23T11:09:30.778871Z"
    }
   },
   "cell_type": "code",
   "source": "to_json = ToJsonStep('to json', [step1])",
   "id": "a893441838e52bbe",
   "outputs": [],
   "execution_count": 38
  },
  {
   "metadata": {
    "ExecuteTime": {
     "end_time": "2024-04-23T14:35:42.915281Z",
     "start_time": "2024-04-23T14:15:03.859827Z"
    }
   },
   "cell_type": "code",
   "source": [
    "ans = []\n",
    "pbar = tqdm(dataset)\n",
    "pipeline = Pipeline(to_json)\n",
    "for sample in pbar:\n",
    "    annotations = [{k:v for k,v in item.items() if k != 'line'} for item in sample['annotations']]\n",
    "    input_text.input.value = {\n",
    "        'example_doc': example['text'],\n",
    "        'example_json': annotations,\n",
    "        'document': sample['text']\n",
    "    }\n",
    "    res = pipeline()\n",
    "    ans.append({'file': sample['file'], 'out': res})"
   ],
   "id": "25fd738c7bbac8ba",
   "outputs": [
    {
     "name": "stderr",
     "output_type": "stream",
     "text": [
      "100%|██████████| 100/100 [20:39<00:00, 12.39s/it]\n"
     ]
    }
   ],
   "execution_count": 52
  },
  {
   "metadata": {
    "ExecuteTime": {
     "end_time": "2024-04-23T14:14:02.356168Z",
     "start_time": "2024-04-23T14:14:02.323045Z"
    }
   },
   "cell_type": "code",
   "source": [
    "result = {\n",
    "    'experiment_name': 'One Shot - Mistral - N2C2 - JSON',\n",
    "    'inputs': [file['file'] for file in dataset],\n",
    "    'outputs': ans,\n",
    "    'pipeline': json.loads(str(pipeline))\n",
    "}\n",
    "json.dump(result, open('result_FSF_MIS_N2C2_JSON.json', 'w'))"
   ],
   "id": "5404258c432fcf06",
   "outputs": [],
   "execution_count": 50
  },
  {
   "metadata": {},
   "cell_type": "code",
   "outputs": [],
   "execution_count": null,
   "source": "",
   "id": "559513dc22202e7"
  }
 ],
 "metadata": {
  "kernelspec": {
   "display_name": "Python 3",
   "language": "python",
   "name": "python3"
  },
  "language_info": {
   "codemirror_mode": {
    "name": "ipython",
    "version": 2
   },
   "file_extension": ".py",
   "mimetype": "text/x-python",
   "name": "python",
   "nbconvert_exporter": "python",
   "pygments_lexer": "ipython2",
   "version": "2.7.6"
  }
 },
 "nbformat": 4,
 "nbformat_minor": 5
}
