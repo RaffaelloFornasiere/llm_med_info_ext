{
 "cells": [
  {
   "cell_type": "code",
   "id": "initial_id",
   "metadata": {
    "collapsed": true,
    "ExecuteTime": {
     "end_time": "2024-05-03T06:08:19.532853Z",
     "start_time": "2024-05-03T06:08:19.470146Z"
    }
   },
   "source": [
    "import random\n",
    "%load_ext autoreload\n",
    "%autoreload 2\n",
    "import os\n",
    "import json\n",
    "import genesis_cloud.utils as u\n",
    "from tqdm import tqdm\n",
    "from step.step import *\n",
    "import random\n",
    "instance_url = '147.189.192.78:8080'\n"
   ],
   "outputs": [
    {
     "name": "stdout",
     "output_type": "stream",
     "text": [
      "The autoreload extension is already loaded. To reload it, use:\n",
      "  %reload_ext autoreload\n"
     ]
    }
   ],
   "execution_count": 8
  },
  {
   "metadata": {
    "ExecuteTime": {
     "end_time": "2024-05-03T06:08:19.635817Z",
     "start_time": "2024-05-03T06:08:19.627867Z"
    }
   },
   "cell_type": "code",
   "source": [
    "inputStep = InputStep('input text', '')\n",
    "system_prompt =\"\"\"\n",
    "<|im_start|>system\n",
    "---------------------\n",
    "```document.txt\n",
    "{document}\n",
    "```\n",
    "---------------------\n",
    "Given the above document, please answer whether or not a medication is cited in the document.\n",
    "<|im_end|>\n",
    "\"\"\"\n",
    "\n",
    "params = json.load(open('params.json', 'r'))\n",
    "params['grammar'] = 'root ::= \"true\" | \"false\"'\n",
    "\n",
    "\n",
    "def map_input(inputs: list = None):\n",
    "    return system_prompt.format(document = inputs[0].output.value)\n",
    "\n",
    "\n",
    "\n",
    "initial_step = MapStep('add system prompt', map_input, [inputStep])\n",
    "# step1 = Step(LLamaCppModel(instance_url), 'step1', prompt, params, map_input, inputs=[input_text])"
   ],
   "id": "be9e0f27db6a1ff3",
   "outputs": [],
   "execution_count": 9
  },
  {
   "metadata": {
    "ExecuteTime": {
     "end_time": "2024-05-03T06:20:05.429941Z",
     "start_time": "2024-05-03T06:08:19.772400Z"
    }
   },
   "cell_type": "code",
   "source": [
    "prompt = \"\"\"\n",
    "{history}\n",
    "<|im_start|>user\n",
    "{row}\n",
    "<|im_end|>\n",
    "<|im_start|>assistant\n",
    "\"\"\"\n",
    "\n",
    "def get_history(inputs: list = None):\n",
    "    history =( (str(inputs[0].input.value)) if inputs[0].input.value else '')  + inputs[0].output.value\n",
    "    str_values = ' '.join([v for k,v in inputs[1].items() if k != 'line'])\n",
    "    return {'history': history, 'row': str_values}\n",
    "\n",
    "sample = json.load(open('sample.json', 'r'))\n",
    "inputStep.input.value = sample['text']\n",
    "ans = []\n",
    "for _ in tqdm(range(5)):\n",
    "    steps = [inputStep, initial_step]\n",
    "    annotations = list(enumerate(sample['annotations']))\n",
    "    random.shuffle(annotations)\n",
    "    for i, annotation in annotations:\n",
    "        step = Step(LLamaCppModel(instance_url), 'step' + str(i), prompt, params, get_history, inputs=[steps[-1], annotation])\n",
    "        steps.append(step)\n",
    "    pipeline = Pipeline(steps[-1])\n",
    "    pipeline()\n",
    "    \n",
    "    \n",
    "    full_chat = steps[-1].input.value + steps[-1].output.value\n",
    "    answers = full_chat.split('<|im_start|>assistant\\n')[1:]\n",
    "    answers = [a.split('<|im_end|>')[0] for a in answers]\n",
    "    answers = list(zip(list(map(lambda x: x[0], annotations)), answers))\n",
    "    \n",
    "    ans.append(answers)"
   ],
   "id": "623a7f9b2a773af",
   "outputs": [
    {
     "name": "stderr",
     "output_type": "stream",
     "text": [
      "100%|██████████| 5/5 [11:45<00:00, 141.13s/it]\n"
     ]
    }
   ],
   "execution_count": 10
  },
  {
   "metadata": {
    "ExecuteTime": {
     "end_time": "2024-05-03T06:20:05.446592Z",
     "start_time": "2024-05-03T06:20:05.432809Z"
    }
   },
   "cell_type": "code",
   "source": "res_s = [sorted(a, key=lambda x: x[0]) for a in ans]",
   "id": "fd8cccc333b2d33c",
   "outputs": [],
   "execution_count": 11
  },
  {
   "metadata": {
    "ExecuteTime": {
     "end_time": "2024-05-03T07:12:59.876559Z",
     "start_time": "2024-05-03T07:12:59.867515Z"
    }
   },
   "cell_type": "code",
   "source": [
    "res_ss = [list(map(lambda x: x[1], a)) for a in res_s]\n",
    "res_ss = [[1 if x == 'true' else -1 for x in a] for a in res_ss]\n",
    "\n"
   ],
   "id": "c0397559278c5462",
   "outputs": [],
   "execution_count": 20
  },
  {
   "metadata": {
    "ExecuteTime": {
     "end_time": "2024-05-03T07:13:04.878543Z",
     "start_time": "2024-05-03T07:13:04.870334Z"
    }
   },
   "cell_type": "code",
   "source": [
    "# sum each row among columns\n",
    "res_ss = [sum(x) for x in zip(*res_ss)]"
   ],
   "id": "a0f2ad29d1e0c747",
   "outputs": [],
   "execution_count": 22
  },
  {
   "metadata": {
    "ExecuteTime": {
     "end_time": "2024-05-03T07:13:08.735816Z",
     "start_time": "2024-05-03T07:13:08.727841Z"
    }
   },
   "cell_type": "code",
   "source": "res_ss",
   "id": "4106c58f5f7de8b",
   "outputs": [
    {
     "data": {
      "text/plain": [
       "[5,\n",
       " 5,\n",
       " 5,\n",
       " 5,\n",
       " 5,\n",
       " 5,\n",
       " 5,\n",
       " 5,\n",
       " 5,\n",
       " 5,\n",
       " 5,\n",
       " 5,\n",
       " 5,\n",
       " 5,\n",
       " 5,\n",
       " 5,\n",
       " 3,\n",
       " 3,\n",
       " 5,\n",
       " 3,\n",
       " 5,\n",
       " 5,\n",
       " 5,\n",
       " 5,\n",
       " 5,\n",
       " 5,\n",
       " 5,\n",
       " 5,\n",
       " 5,\n",
       " 5,\n",
       " 5,\n",
       " 5,\n",
       " 5,\n",
       " 5,\n",
       " 5,\n",
       " 5,\n",
       " 3,\n",
       " 5,\n",
       " 5,\n",
       " 5,\n",
       " 3,\n",
       " 5,\n",
       " 5,\n",
       " 5,\n",
       " 5,\n",
       " 5,\n",
       " 5,\n",
       " 5,\n",
       " 5,\n",
       " 5,\n",
       " 5,\n",
       " 5,\n",
       " 5,\n",
       " 3,\n",
       " 3,\n",
       " 5,\n",
       " 5,\n",
       " 3,\n",
       " 5,\n",
       " 5,\n",
       " 5,\n",
       " 5,\n",
       " 3,\n",
       " 5,\n",
       " 5,\n",
       " 5,\n",
       " 5,\n",
       " 3]"
      ]
     },
     "execution_count": 23,
     "metadata": {},
     "output_type": "execute_result"
    }
   ],
   "execution_count": 23
  }
 ],
 "metadata": {
  "kernelspec": {
   "display_name": "Python 3",
   "language": "python",
   "name": "python3"
  },
  "language_info": {
   "codemirror_mode": {
    "name": "ipython",
    "version": 2
   },
   "file_extension": ".py",
   "mimetype": "text/x-python",
   "name": "python",
   "nbconvert_exporter": "python",
   "pygments_lexer": "ipython2",
   "version": "2.7.6"
  }
 },
 "nbformat": 4,
 "nbformat_minor": 5
}
