{
 "cells": [
  {
   "cell_type": "code",
   "id": "initial_id",
   "metadata": {
    "collapsed": true,
    "ExecuteTime": {
     "end_time": "2024-07-31T13:13:27.087095Z",
     "start_time": "2024-07-31T13:13:27.027476Z"
    }
   },
   "source": [
    "import json\n",
    "import os\n",
    "\n",
    "import json5\n",
    "import os\n",
    "\n",
    "\n",
    "files = os.listdir('n2c2-2009')\n",
    "dest_dir = 'text-ann-n2c2-2009'\n",
    "\n",
    "for file in files:\n",
    "   sample = json.load(open(f'n2c2-2009/{file}'))\n",
    "   filename = file.split('.')[0]\n",
    "   with open(f'{dest_dir}/{filename}.txt', 'w') as f:\n",
    "      f.write(sample['text'])\n",
    "   with open(f'{dest_dir}/{filename}_ann.json', 'w') as f:\n",
    "      json.dump(sample['annotations'], f)\n",
    "   "
   ],
   "outputs": [],
   "execution_count": 3
  },
  {
   "metadata": {},
   "cell_type": "code",
   "outputs": [],
   "execution_count": null,
   "source": "",
   "id": "bc6e2ba497119009"
  }
 ],
 "metadata": {
  "kernelspec": {
   "display_name": "Python 3",
   "language": "python",
   "name": "python3"
  },
  "language_info": {
   "codemirror_mode": {
    "name": "ipython",
    "version": 2
   },
   "file_extension": ".py",
   "mimetype": "text/x-python",
   "name": "python",
   "nbconvert_exporter": "python",
   "pygments_lexer": "ipython2",
   "version": "2.7.6"
  }
 },
 "nbformat": 4,
 "nbformat_minor": 5
}
