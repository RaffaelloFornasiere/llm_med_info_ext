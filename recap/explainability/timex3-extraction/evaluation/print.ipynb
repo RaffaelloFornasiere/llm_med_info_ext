{
 "cells": [
  {
   "cell_type": "code",
   "id": "initial_id",
   "metadata": {
    "collapsed": true,
    "ExecuteTime": {
     "end_time": "2024-06-23T14:06:42.856522Z",
     "start_time": "2024-06-23T14:06:42.851204Z"
    }
   },
   "source": [
    "import re\n",
    "import os\n",
    "import json5 as json"
   ],
   "outputs": [],
   "execution_count": 15
  },
  {
   "metadata": {
    "ExecuteTime": {
     "end_time": "2024-06-23T15:34:47.463727Z",
     "start_time": "2024-06-23T15:34:47.455494Z"
    }
   },
   "cell_type": "code",
   "source": [
    "experiments_dir = '../experiments'\n",
    "experiments_file_pattern = \"eval_.*\\\\.json\"\n",
    "\n",
    "# recursively search for all experiment files\n",
    "eval_files = []\n",
    "for root, dirs, files in os.walk(experiments_dir):\n",
    "    for file in files:\n",
    "        if re.match(experiments_file_pattern, file):\n",
    "            eval_files.append(os.path.join(root, file))\n",
    "\n",
    "eval_files "
   ],
   "id": "9d1a137d2b73496e",
   "outputs": [
    {
     "data": {
      "text/plain": [
       "['../experiments/ZS/ZS_MIS_SYNTH/eval_SYNTH.json',\n",
       " '../experiments/ZS/ZS_MIS_I2B2/eval_I2B2.json',\n",
       " '../experiments/ZS/ZS_MIS_PSD/eval_PSD.json',\n",
       " '../experiments/FS/FSC_MIS_PSD/eval_PSD.json',\n",
       " '../experiments/FS/FSC_MIS_I2B2/eval_I2B2.json',\n",
       " '../experiments/FS/FSF_MIS_SYNTH/eval_SYNTH.json',\n",
       " '../experiments/FS/FSC_MIS_SYNTH/eval_SYNTH.json',\n",
       " '../experiments/FS/FSF_MIS_PSD/eval_PSD_CSV.json',\n",
       " '../experiments/FS/FSF_MIS_I2B2/eval_I2B2.json',\n",
       " '../experiments/P/P_MIS_PSD/eval_I2B2.json',\n",
       " '../experiments/P/P_MIS_SYNTH/eval_I2B2.json',\n",
       " '../experiments/P/P_MIS_I2B2/eval_I2B2.json']"
      ]
     },
     "execution_count": 23,
     "metadata": {},
     "output_type": "execute_result"
    }
   ],
   "execution_count": 23
  },
  {
   "metadata": {
    "ExecuteTime": {
     "end_time": "2024-06-23T15:36:20.770091Z",
     "start_time": "2024-06-23T15:36:20.755475Z"
    }
   },
   "cell_type": "code",
   "source": [
    "def get_experiment_name(path):\n",
    "    path = path.split('/')[3:]\n",
    "    technique = \"Zero-shot\" if \"ZS\" in path[0] else(\"Sequential\" if \"P_\" in path[0] else (\"Few-shot chunks\" if \"FSC\" in path[0] else \"Few-shot full\"))\n",
    "    dataset = \"I2B2 2012\" if \"I2B2\" in path[0] else (\"Policlinico San Donato\" if \"PSD\" in path[0] else \"Synthetic dataset\")\n",
    "    return f\"{technique},{dataset}\"\n",
    "    \n",
    "\n",
    "def get_eval_name(key):\n",
    "    return \"Full Medication\" if key == \"FullRowExactMatch\" else \"Names Only\"\n",
    "\n",
    "\n",
    "for file in eval_files:\n",
    "    obj = json.loads(open(file).read())\n",
    "    row = \"\"\n",
    "    for key in obj.keys():\n",
    "        row = f\"{get_experiment_name(file)},{get_eval_name(key)},{round(obj[key]['precision'], 3)},{round(obj[key]['recall'], 3)},{round(obj[key]['f1_score'], 3)}\"\n",
    "        print(row)\n",
    "    # print(row)"
   ],
   "id": "f9c5f5c3c6fba770",
   "outputs": [
    {
     "name": "stdout",
     "output_type": "stream",
     "text": [
      "Zero-shot,Synthetic dataset,Full Medication,0.949,0.806,0.861\n",
      "Zero-shot,I2B2 2012,Full Medication,0.811,0.589,0.651\n",
      "Zero-shot,Policlinico San Donato,Full Medication,0.0,0.0,0.0\n",
      "Few-shot chunks,Policlinico San Donato,Full Medication,0.941,0.518,0.665\n",
      "Few-shot chunks,I2B2 2012,Full Medication,0.954,0.592,0.701\n",
      "Few-shot full,Synthetic dataset,Full Medication,0.926,0.917,0.916\n",
      "Few-shot chunks,Synthetic dataset,Full Medication,0.975,0.898,0.931\n",
      "Few-shot full,Policlinico San Donato,Full Medication,0.931,0.622,0.738\n",
      "Few-shot full,I2B2 2012,Full Medication,0.803,0.794,0.79\n",
      "Sequential,Policlinico San Donato,Full Medication,0.856,0.317,0.46\n",
      "Sequential,Synthetic dataset,Full Medication,0.966,0.898,0.926\n",
      "Sequential,I2B2 2012,Full Medication,0.757,0.644,0.66\n"
     ]
    }
   ],
   "execution_count": 26
  },
  {
   "metadata": {
    "ExecuteTime": {
     "end_time": "2024-06-23T14:06:07.316394Z",
     "start_time": "2024-06-23T14:06:07.315192Z"
    }
   },
   "cell_type": "code",
   "source": "",
   "id": "d19fa4b1979543fa",
   "outputs": [],
   "execution_count": 13
  },
  {
   "metadata": {},
   "cell_type": "code",
   "outputs": [],
   "execution_count": null,
   "source": "",
   "id": "934c4623ce1c4672"
  }
 ],
 "metadata": {
  "kernelspec": {
   "display_name": "Python 3",
   "language": "python",
   "name": "python3"
  },
  "language_info": {
   "codemirror_mode": {
    "name": "ipython",
    "version": 2
   },
   "file_extension": ".py",
   "mimetype": "text/x-python",
   "name": "python",
   "nbconvert_exporter": "python",
   "pygments_lexer": "ipython2",
   "version": "2.7.6"
  }
 },
 "nbformat": 4,
 "nbformat_minor": 5
}
