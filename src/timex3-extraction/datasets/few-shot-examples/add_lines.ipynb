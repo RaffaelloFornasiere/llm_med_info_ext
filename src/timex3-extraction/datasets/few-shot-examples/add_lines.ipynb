{
 "cells": [
  {
   "metadata": {
    "ExecuteTime": {
     "end_time": "2024-06-21T22:46:24.761116Z",
     "start_time": "2024-06-21T22:46:24.758337Z"
    }
   },
   "cell_type": "code",
   "source": [
    "import os\n",
    "import json\n"
   ],
   "id": "9e35de6c693fa1f4",
   "outputs": [],
   "execution_count": 3
  },
  {
   "metadata": {
    "ExecuteTime": {
     "end_time": "2024-06-21T22:46:25.990963Z",
     "start_time": "2024-06-21T22:46:25.984762Z"
    }
   },
   "cell_type": "code",
   "source": [
    "files = os.listdir('synth-ita')\n",
    "\n",
    "def find_in_array(array, lambda_):\n",
    "    for i, el in enumerate(array):\n",
    "        if lambda_(el):\n",
    "            return i\n",
    "    return -1\n",
    "\n",
    "for file in files:\n",
    "    with open('synth-ita/' + file, 'r') as f:\n",
    "        data = json.load(f)\n",
    "    lines = data['text'].split('\\n')\n",
    "    annotations = data['annotations']\n",
    "    for annotation in annotations:\n",
    "        ann_text = annotation['text']\n",
    "        i = find_in_array(lines, lambda x: ann_text.lower() in x.lower())\n",
    "        annotation['line'] = i\n",
    "    with open('synth-ita/' + file, 'w') as f:\n",
    "        json.dump(data, f, indent=4)\n",
    "        \n",
    "    "
   ],
   "id": "a46d3dc6ab4dacb7",
   "outputs": [],
   "execution_count": 4
  },
  {
   "metadata": {},
   "cell_type": "code",
   "outputs": [],
   "execution_count": null,
   "source": "",
   "id": "be0e29d0af7c402c"
  }
 ],
 "metadata": {
  "kernelspec": {
   "display_name": "Python 3",
   "language": "python",
   "name": "python3"
  },
  "language_info": {
   "codemirror_mode": {
    "name": "ipython",
    "version": 2
   },
   "file_extension": ".py",
   "mimetype": "text/x-python",
   "name": "python",
   "nbconvert_exporter": "python",
   "pygments_lexer": "ipython2",
   "version": "2.7.6"
  }
 },
 "nbformat": 4,
 "nbformat_minor": 5
}
