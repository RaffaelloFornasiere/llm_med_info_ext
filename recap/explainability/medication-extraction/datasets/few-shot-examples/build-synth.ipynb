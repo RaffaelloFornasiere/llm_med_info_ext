{
 "cells": [
  {
   "cell_type": "code",
   "id": "initial_id",
   "metadata": {
    "collapsed": true,
    "ExecuteTime": {
     "end_time": "2024-04-30T17:22:56.005489Z",
     "start_time": "2024-04-30T17:22:56.000342Z"
    }
   },
   "source": [
    "text = \"\"\"Paziente: Luca Bianchi\n",
    "Data: 27 Aprile 2024\n",
    "Anamnesi\n",
    "Luca Bianchi, 55 anni, si presenta con una storia di artrite reumatoide diagnosticata 10 anni fa. Attualmente è in trattamento con methotrexate 15 mg una volta alla settimana e prednisone 5 mg al giorno per il controllo dei sintomi.\n",
    "\n",
    "Esame Obiettivo\n",
    "Durante l'esame obiettivo, il paziente presenta gonfiore e dolore articolare alle mani e ai piedi. La mobilità delle articolazioni è limitata, con segni di infiammazione evidenti.\n",
    "\n",
    "Pianificazione Terapeutica\n",
    "Artrite Reumatoide\n",
    "Continuare con methotrexate 15 mg una volta alla settimana.\n",
    "Aggiungere adalimumab 40 mg iniezione sottocutanea una volta ogni due settimane.\n",
    "Gradualmente ridurre la dose di prednisone a 2.5 mg al giorno nelle prossime 4 settimane.\n",
    "Controllo del Dolore\n",
    "Prescrivere ibuprofene 400 mg in caso di dolore acuto, fino a 3 volte al giorno.\n",
    "Profilassi Gastrica\n",
    "Raccomandare l'assunzione di omeprazolo 20 mg una volta al giorno per prevenire irritazioni gastriche dovute all'ibuprofene.\n",
    "Supplementazione di Calcio e Vitamina D\n",
    "Iniziare la terapia con calcio 1000 mg e vitamina D 800 UI una volta al giorno per prevenire l'osteoporosi dovuta all'uso prolungato di corticosteroidi.\n",
    "Follow-Up\n",
    "Il paziente è stato programmato per un follow-up dopo un mese per valutare la risposta alla terapia aggiuntiva e monitorare eventuali effetti collaterali.\n",
    "\"\"\"\n",
    "\n",
    "annotations = [\n",
    "    {\n",
    "        \"nome_farmaco\": \"methotrexate\",\n",
    "        \"dosaggio\": \"15 mg\",\n",
    "        \"modalità\": \"una volta alla settimana\",\n",
    "        \"frequenza\": \"\",\n",
    "        \"line\": 4,\n",
    "    },\n",
    "    {\n",
    "        \"nome_farmaco\": \"prednisone\",\n",
    "        \"dosaggio\": \"5 mg\",\n",
    "        \"modalità\": \"al giorno\",\n",
    "        \"frequenza\": \"\",\n",
    "        \"line\": 4,\n",
    "    },\n",
    "    {\n",
    "        \"nome_farmaco\": \"adalimumab\",\n",
    "        \"dosaggio\": \"40 mg\",\n",
    "        \"modalità\": \"iniezione sottocutanea\",\n",
    "        \"frequenza\": \"una volta ogni due settimane\",\n",
    "        \"line\": 12,\n",
    "    },\n",
    "    {\n",
    "        \"nome_farmaco\": \"ibuprofene\",\n",
    "        \"dosaggio\": \"400 mg\",\n",
    "        \"modalità\": \"fino a 3 volte al giorno\",\n",
    "        \"frequenza\": \"\",\n",
    "        \"line\": 15,\n",
    "    },\n",
    "    {\n",
    "        \"nome_farmaco\": \"omeprazolo\",\n",
    "        \"dosaggio\": \"20 mg\",\n",
    "        \"modalità\": \"una volta al giorno\",\n",
    "        \"frequenza\": \"\",\n",
    "        \"line\": 17,\n",
    "    },\n",
    "    {\n",
    "        \"nome_farmaco\": \"calcio\",\n",
    "        \"dosaggio\": \"1000 mg\",\n",
    "        \"modalità\": \"una volta al giorno\",\n",
    "        \"frequenza\": \"\",\n",
    "        \"line\": 19,\n",
    "    },\n",
    "    {\n",
    "        \"nome_farmaco\": \"vitamina D\",\n",
    "        \"dosaggio\": \"800 UI\",\n",
    "        \"modalità\": \"una volta al giorno\",\n",
    "        \"frequenza\": \"\",\n",
    "        \"line\": 19,\n",
    "    }\n",
    "]\n"
   ],
   "outputs": [],
   "execution_count": 1
  },
  {
   "metadata": {
    "ExecuteTime": {
     "end_time": "2024-04-30T17:23:35.535651Z",
     "start_time": "2024-04-30T17:23:35.531287Z"
    }
   },
   "cell_type": "code",
   "source": [
    "import json \n",
    "json.dump({\n",
    "    \"text\": text,\n",
    "    \"annotations\": annotations\n",
    "}, open(\"synth-ita/sample2.json\", \"w\"))"
   ],
   "id": "a3ec9128556f2aa8",
   "outputs": [],
   "execution_count": 3
  },
  {
   "metadata": {},
   "cell_type": "code",
   "outputs": [],
   "execution_count": null,
   "source": "",
   "id": "98d6299ff072d171"
  }
 ],
 "metadata": {
  "kernelspec": {
   "display_name": "Python 3",
   "language": "python",
   "name": "python3"
  },
  "language_info": {
   "codemirror_mode": {
    "name": "ipython",
    "version": 2
   },
   "file_extension": ".py",
   "mimetype": "text/x-python",
   "name": "python",
   "nbconvert_exporter": "python",
   "pygments_lexer": "ipython2",
   "version": "2.7.6"
  }
 },
 "nbformat": 4,
 "nbformat_minor": 5
}
